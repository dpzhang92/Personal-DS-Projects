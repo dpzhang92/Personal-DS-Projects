{
 "cells": [
  {
   "cell_type": "markdown",
   "metadata": {},
   "source": [
    "# Predicting Oscar Best Picture Nominations And Winners\n",
    "\n",
    "## Objective\n",
    "This project is an exercise in trying to predict the winners and nominations of the Best Picture category of the Oscars using past data, utilizing features scraped from IMDB, mainly genre, country, average rating, duration, and number of votes to denote popularity.\\\n",
    "This is done primarily through a variety of classification algorithms (Logistic Regression, Decision Tree/Random Forest, K Nearest Neighbors, and Naive Bayes).\\\n",
    "I try to fit these models with the best hyperparameters for each method and evaluate based on accuracy, Jaccard Index, and F1 Score.\\\n",
    "The end goal is to see if there are decent enough features from just the IMDB dataset to determine which films have the best chances of winning and/or being nominated.\n",
    "\n",
    "## Table Of Contents\n",
    "<ol>\n",
    "    <li><a href='#Loading-Data-and-Data-Preprocessing'>Loading Data and Data Preprocessing</a></li>\n",
    "    <li><a href='#Exploratory-Data-Analysis'>Exploratory Data Analysis</a></li>\n",
    "    <li><a href='#Machine-Learning-And-Model-Evaluation'>Machine Learning And Model Evaluation</a></li>\n",
    "    <li><a href='#Predicting-Nominations-and-Winner-of-2020'>Predicting Nominations and Winner of 2020</a></li>\n",
    "    <li><a href='#Final-Results-and-Next-Steps'>Final Results and Next Steps</a></li>\n",
    "</ol>"
   ]
  },
  {
   "cell_type": "code",
   "execution_count": 1,
   "metadata": {},
   "outputs": [],
   "source": [
    "import numpy as np\n",
    "import pandas as pd\n",
    "import requests\n",
    "from bs4 import BeautifulSoup\n",
    "import matplotlib.pyplot as plt\n",
    "import re\n",
    "import seaborn as sns\n",
    "%matplotlib inline"
   ]
  },
  {
   "cell_type": "markdown",
   "metadata": {},
   "source": [
    "\n",
    "## Loading Data and Data Preprocessing\n",
    "First we have to load the datasets required. In our case, we are using 3 CSVs. 1 is of the movies from IMDB that have over 100 votes until 2020, 1 is of the Oscar winners by category, and 1 is scraped from IMDB such that the data is approximately the same as the Kaggle one.\\\n",
    "https://www.kaggle.com/stefanoleone992/imdb-extensive-dataset \\\n",
    "https://www.kaggle.com/unanimad/the-oscar-award \\\n",
    "<a href=\"../JB Notebooks/Scrape IMDB.ipynb\">Code For Scraping IMDB</a>\n",
    "\n",
    "The plan then is to combine all of these datasets into one DataFrame after some merging and data manipulation.\\\n",
    "\n",
    "### Merging Data"
   ]
  },
  {
   "cell_type": "code",
   "execution_count": 2,
   "metadata": {},
   "outputs": [],
   "source": [
    "%%capture\n",
    "df1 = pd.read_csv(\"../JB Notebooks/IMDb/IMDb movies.csv\") #Use the link to DL the csv\n",
    "df2 = pd.read_csv('../JB Notebooks/IMDb/2020 movies onwards.csv') #from Scrape IMDB.jpynb\n",
    "df3 = pd.read_csv('../JB Notebooks/IMDb/the_oscar_award.csv')"
   ]
  },
  {
   "cell_type": "code",
   "execution_count": 3,
   "metadata": {},
   "outputs": [],
   "source": [
    "#Combine the two datasets from before 2020 and after 2020\n",
    "df2.original_title = df2.title\n",
    "df = pd.concat([df1,df2])"
   ]
  },
  {
   "cell_type": "code",
   "execution_count": 4,
   "metadata": {},
   "outputs": [
    {
     "data": {
      "text/plain": [
       "False    87090\n",
       "True       782\n",
       "dtype: int64"
      ]
     },
     "execution_count": 4,
     "metadata": {},
     "output_type": "execute_result"
    }
   ],
   "source": [
    "#Check for duplicates\n",
    "df.duplicated('imdb_title_id').value_counts()"
   ]
  },
  {
   "cell_type": "code",
   "execution_count": 5,
   "metadata": {},
   "outputs": [],
   "source": [
    "#Drop duplicates and unnecessary features, keeping the latest data\n",
    "df = df.drop_duplicates('imdb_title_id', keep='last')\n",
    "movies_df = df.drop(columns=['title','date_published','director','writer','actors','description','budget','production_company','usa_gross_income','worlwide_gross_income','reviews_from_users','reviews_from_critics','Unnamed: 0'])"
   ]
  },
  {
   "cell_type": "code",
   "execution_count": 6,
   "metadata": {},
   "outputs": [],
   "source": [
    "#Fix some values in the year column\n",
    "movies_df.loc[movies_df['year'] == 'TV Movie 2019','year'] = '2019'\n",
    "movies_df = movies_df.astype({'year':'int64'})"
   ]
  },
  {
   "cell_type": "markdown",
   "metadata": {},
   "source": [
    "Now we work on the Oscar winners DataFrame. We merge this DataFrame with the previous DataFrame with data from IMDB on the film titles and year."
   ]
  },
  {
   "cell_type": "code",
   "execution_count": 7,
   "metadata": {},
   "outputs": [],
   "source": [
    "#Aggregate by winners of Best Picture and remove other columns\n",
    "winners_df = df3[df3['category'].isin(['OUTSTANDING PICTURE','OUTSTANDING MOTION PICTURE','BEST PICTURE','BEST MOTION PICTURE','OUTSTANDING PRODUCTION'])]\n",
    "winners_df = winners_df.drop(columns=['category','name','ceremony','year_ceremony'])"
   ]
  },
  {
   "cell_type": "code",
   "execution_count": 8,
   "metadata": {},
   "outputs": [
    {
     "data": {
      "text/html": [
       "<div>\n",
       "<style scoped>\n",
       "    .dataframe tbody tr th:only-of-type {\n",
       "        vertical-align: middle;\n",
       "    }\n",
       "\n",
       "    .dataframe tbody tr th {\n",
       "        vertical-align: top;\n",
       "    }\n",
       "\n",
       "    .dataframe thead th {\n",
       "        text-align: right;\n",
       "    }\n",
       "</style>\n",
       "<table border=\"1\" class=\"dataframe\">\n",
       "  <thead>\n",
       "    <tr style=\"text-align: right;\">\n",
       "      <th></th>\n",
       "      <th>imdb_title_id</th>\n",
       "      <th>original_title</th>\n",
       "      <th>year</th>\n",
       "      <th>genre</th>\n",
       "      <th>duration</th>\n",
       "      <th>country</th>\n",
       "      <th>language</th>\n",
       "      <th>avg_vote</th>\n",
       "      <th>votes</th>\n",
       "      <th>metascore</th>\n",
       "      <th>title</th>\n",
       "      <th>winner</th>\n",
       "    </tr>\n",
       "  </thead>\n",
       "  <tbody>\n",
       "    <tr>\n",
       "      <th>87090</th>\n",
       "      <td>NaN</td>\n",
       "      <td>NaN</td>\n",
       "      <td>1927</td>\n",
       "      <td>NaN</td>\n",
       "      <td>NaN</td>\n",
       "      <td>NaN</td>\n",
       "      <td>NaN</td>\n",
       "      <td>NaN</td>\n",
       "      <td>NaN</td>\n",
       "      <td>NaN</td>\n",
       "      <td>The Racket</td>\n",
       "      <td>False</td>\n",
       "    </tr>\n",
       "    <tr>\n",
       "      <th>87091</th>\n",
       "      <td>NaN</td>\n",
       "      <td>NaN</td>\n",
       "      <td>1928</td>\n",
       "      <td>NaN</td>\n",
       "      <td>NaN</td>\n",
       "      <td>NaN</td>\n",
       "      <td>NaN</td>\n",
       "      <td>NaN</td>\n",
       "      <td>NaN</td>\n",
       "      <td>NaN</td>\n",
       "      <td>Alibi</td>\n",
       "      <td>False</td>\n",
       "    </tr>\n",
       "    <tr>\n",
       "      <th>87092</th>\n",
       "      <td>NaN</td>\n",
       "      <td>NaN</td>\n",
       "      <td>1928</td>\n",
       "      <td>NaN</td>\n",
       "      <td>NaN</td>\n",
       "      <td>NaN</td>\n",
       "      <td>NaN</td>\n",
       "      <td>NaN</td>\n",
       "      <td>NaN</td>\n",
       "      <td>NaN</td>\n",
       "      <td>The Broadway Melody</td>\n",
       "      <td>True</td>\n",
       "    </tr>\n",
       "    <tr>\n",
       "      <th>87093</th>\n",
       "      <td>NaN</td>\n",
       "      <td>NaN</td>\n",
       "      <td>1928</td>\n",
       "      <td>NaN</td>\n",
       "      <td>NaN</td>\n",
       "      <td>NaN</td>\n",
       "      <td>NaN</td>\n",
       "      <td>NaN</td>\n",
       "      <td>NaN</td>\n",
       "      <td>NaN</td>\n",
       "      <td>Hollywood Revue</td>\n",
       "      <td>False</td>\n",
       "    </tr>\n",
       "    <tr>\n",
       "      <th>87094</th>\n",
       "      <td>NaN</td>\n",
       "      <td>NaN</td>\n",
       "      <td>1928</td>\n",
       "      <td>NaN</td>\n",
       "      <td>NaN</td>\n",
       "      <td>NaN</td>\n",
       "      <td>NaN</td>\n",
       "      <td>NaN</td>\n",
       "      <td>NaN</td>\n",
       "      <td>NaN</td>\n",
       "      <td>The Patriot</td>\n",
       "      <td>False</td>\n",
       "    </tr>\n",
       "    <tr>\n",
       "      <th>...</th>\n",
       "      <td>...</td>\n",
       "      <td>...</td>\n",
       "      <td>...</td>\n",
       "      <td>...</td>\n",
       "      <td>...</td>\n",
       "      <td>...</td>\n",
       "      <td>...</td>\n",
       "      <td>...</td>\n",
       "      <td>...</td>\n",
       "      <td>...</td>\n",
       "      <td>...</td>\n",
       "      <td>...</td>\n",
       "    </tr>\n",
       "    <tr>\n",
       "      <th>87154</th>\n",
       "      <td>NaN</td>\n",
       "      <td>NaN</td>\n",
       "      <td>2009</td>\n",
       "      <td>NaN</td>\n",
       "      <td>NaN</td>\n",
       "      <td>NaN</td>\n",
       "      <td>NaN</td>\n",
       "      <td>NaN</td>\n",
       "      <td>NaN</td>\n",
       "      <td>NaN</td>\n",
       "      <td>The Hurt Locker</td>\n",
       "      <td>True</td>\n",
       "    </tr>\n",
       "    <tr>\n",
       "      <th>87155</th>\n",
       "      <td>NaN</td>\n",
       "      <td>NaN</td>\n",
       "      <td>2009</td>\n",
       "      <td>NaN</td>\n",
       "      <td>NaN</td>\n",
       "      <td>NaN</td>\n",
       "      <td>NaN</td>\n",
       "      <td>NaN</td>\n",
       "      <td>NaN</td>\n",
       "      <td>NaN</td>\n",
       "      <td>Precious: Based on the Novel 'Push' by Sapphire</td>\n",
       "      <td>False</td>\n",
       "    </tr>\n",
       "    <tr>\n",
       "      <th>87156</th>\n",
       "      <td>NaN</td>\n",
       "      <td>NaN</td>\n",
       "      <td>2017</td>\n",
       "      <td>NaN</td>\n",
       "      <td>NaN</td>\n",
       "      <td>NaN</td>\n",
       "      <td>NaN</td>\n",
       "      <td>NaN</td>\n",
       "      <td>NaN</td>\n",
       "      <td>NaN</td>\n",
       "      <td>Three Billboards outside Ebbing, Missouri</td>\n",
       "      <td>False</td>\n",
       "    </tr>\n",
       "    <tr>\n",
       "      <th>87157</th>\n",
       "      <td>NaN</td>\n",
       "      <td>NaN</td>\n",
       "      <td>2019</td>\n",
       "      <td>NaN</td>\n",
       "      <td>NaN</td>\n",
       "      <td>NaN</td>\n",
       "      <td>NaN</td>\n",
       "      <td>NaN</td>\n",
       "      <td>NaN</td>\n",
       "      <td>NaN</td>\n",
       "      <td>Once upon a Time...in Hollywood</td>\n",
       "      <td>False</td>\n",
       "    </tr>\n",
       "    <tr>\n",
       "      <th>87158</th>\n",
       "      <td>NaN</td>\n",
       "      <td>NaN</td>\n",
       "      <td>2019</td>\n",
       "      <td>NaN</td>\n",
       "      <td>NaN</td>\n",
       "      <td>NaN</td>\n",
       "      <td>NaN</td>\n",
       "      <td>NaN</td>\n",
       "      <td>NaN</td>\n",
       "      <td>NaN</td>\n",
       "      <td>Parasite</td>\n",
       "      <td>True</td>\n",
       "    </tr>\n",
       "  </tbody>\n",
       "</table>\n",
       "<p>69 rows × 12 columns</p>\n",
       "</div>"
      ],
      "text/plain": [
       "      imdb_title_id original_title  year genre  duration country language  \\\n",
       "87090           NaN            NaN  1927   NaN       NaN     NaN      NaN   \n",
       "87091           NaN            NaN  1928   NaN       NaN     NaN      NaN   \n",
       "87092           NaN            NaN  1928   NaN       NaN     NaN      NaN   \n",
       "87093           NaN            NaN  1928   NaN       NaN     NaN      NaN   \n",
       "87094           NaN            NaN  1928   NaN       NaN     NaN      NaN   \n",
       "...             ...            ...   ...   ...       ...     ...      ...   \n",
       "87154           NaN            NaN  2009   NaN       NaN     NaN      NaN   \n",
       "87155           NaN            NaN  2009   NaN       NaN     NaN      NaN   \n",
       "87156           NaN            NaN  2017   NaN       NaN     NaN      NaN   \n",
       "87157           NaN            NaN  2019   NaN       NaN     NaN      NaN   \n",
       "87158           NaN            NaN  2019   NaN       NaN     NaN      NaN   \n",
       "\n",
       "       avg_vote  votes  metascore  \\\n",
       "87090       NaN    NaN        NaN   \n",
       "87091       NaN    NaN        NaN   \n",
       "87092       NaN    NaN        NaN   \n",
       "87093       NaN    NaN        NaN   \n",
       "87094       NaN    NaN        NaN   \n",
       "...         ...    ...        ...   \n",
       "87154       NaN    NaN        NaN   \n",
       "87155       NaN    NaN        NaN   \n",
       "87156       NaN    NaN        NaN   \n",
       "87157       NaN    NaN        NaN   \n",
       "87158       NaN    NaN        NaN   \n",
       "\n",
       "                                                 title winner  \n",
       "87090                                       The Racket  False  \n",
       "87091                                            Alibi  False  \n",
       "87092                              The Broadway Melody   True  \n",
       "87093                                  Hollywood Revue  False  \n",
       "87094                                      The Patriot  False  \n",
       "...                                                ...    ...  \n",
       "87154                                  The Hurt Locker   True  \n",
       "87155  Precious: Based on the Novel 'Push' by Sapphire  False  \n",
       "87156        Three Billboards outside Ebbing, Missouri  False  \n",
       "87157                  Once upon a Time...in Hollywood  False  \n",
       "87158                                         Parasite   True  \n",
       "\n",
       "[69 rows x 12 columns]"
      ]
     },
     "execution_count": 8,
     "metadata": {},
     "output_type": "execute_result"
    }
   ],
   "source": [
    "#Merge on Film Title And Year with the previously constructed DataFrame from IMDB\n",
    "winners_df.rename(columns={'year_film':'year', 'film':'title'}, inplace = True)\n",
    "total_df = pd.merge(movies_df, winners_df, how='outer', left_on=['original_title','year'], right_on=['title','year'])\n",
    "\n",
    "#Null values that weren't merged properly\n",
    "unmerged = total_df[total_df['imdb_title_id'].isnull()]\n",
    "unmerged"
   ]
  },
  {
   "cell_type": "markdown",
   "metadata": {},
   "source": [
    "### Handling Null Values\n",
    "\n",
    "We see that there are Oscar winners that did not merge with the IMDB data. This is either due to wrong/misspelled titles or mismatched years.\\\n",
    "We have to manually add these values into the merged DataFrame and denote which films were winners."
   ]
  },
  {
   "cell_type": "code",
   "execution_count": 9,
   "metadata": {
    "jupyter": {
     "source_hidden": true
    }
   },
   "outputs": [],
   "source": [
    "total_df.loc[(total_df['original_title'] == 'The Racket') & (total_df['year'] == 1928),['winner']] = False\n",
    "total_df.loc[(total_df['original_title'] == 'Alibi') & (total_df['year'] == 1929),['winner']] = False\n",
    "total_df.loc[(total_df['original_title'] == 'The Broadway Melody') & (total_df['year'] == 1929),['winner']] = True\n",
    "total_df.loc[(total_df['original_title'] == 'Casablanca') & (total_df['year'] == 1942),['winner']] = True\n",
    "total_df.loc[(total_df['original_title'] == 'In Which We Serve') & (total_df['year'] == 1942),['winner']] = False\n",
    "total_df.loc[(total_df['original_title'] == 'The Ox-Bow Incident') & (total_df['year'] == 1942),['winner']] = False\n",
    "total_df.loc[(total_df['original_title'] == 'The Music Man') & (total_df['year'] == 1962),['winner']] = False\n",
    "total_df.loc[(total_df['original_title'] == 'How the West Was Won') & (total_df['year'] == 1962),['winner']] = False\n",
    "total_df.loc[(total_df['original_title'] == 'Alexis Zorbas') & (total_df['year'] == 1964),['winner']] = False\n",
    "total_df.loc[(total_df['original_title'] == 'The Russians Are Coming the Russians Are Coming') & (total_df['year'] == 1966),['winner']] = False\n",
    "total_df.loc[(total_df['original_title'] == 'MASH') & (total_df['year'] == 1970),['winner']] = False\n",
    "total_df.loc[(total_df['original_title'] == 'Utvandrarna') & (total_df['year'] == 1971),['winner']] = False\n",
    "total_df.loc[(total_df['original_title'] == 'Viskningar och rop') & (total_df['year'] == 1972),['winner']] = False\n",
    "total_df.loc[(total_df['original_title'] == 'The Godfather: Part II') & (total_df['year'] == 1974),['winner']] = True\n",
    "total_df.loc[(total_df['original_title'] == \"One Flew Over the Cuckoo's Nest\") & (total_df['year'] == 1975),['winner']] = True\n",
    "total_df.loc[(total_df['original_title'] == \"Tess\") & (total_df['year'] == 1979),['winner']] = False\n",
    "total_df.loc[(total_df['original_title'] == \"Atlantic City\") & (total_df['year'] == 1980),['winner']] = False\n",
    "total_df.loc[(total_df['original_title'] == \"E.T. the Extra-Terrestrial\") & (total_df['year'] == 1982),['winner']] = False\n",
    "total_df.loc[(total_df['original_title'] == \"A Room with a View\") & (total_df['year'] == 1985),['winner']] = False\n",
    "total_df.loc[(total_df['original_title'] == \"My Left Foot: The Story of Christy Brown\") & (total_df['year'] == 1989),['winner']] = False\n",
    "total_df.loc[(total_df['original_title'] == \"Dances with Wolves\") & (total_df['year'] == 1989),['winner']] = True\n",
    "total_df.loc[(total_df['original_title'] == \"The Godfather: Part III\") & (total_df['year'] == 1990),['winner']] = False\n",
    "total_df.loc[(total_df['original_title'] == \"Goodfellas\") & (total_df['year'] == 1990),['winner']] = False\n",
    "total_df.loc[(total_df['original_title'] == \"Il postino\") & (total_df['year'] == 1994),['winner']] = False\n",
    "total_df.loc[(total_df['original_title'] == \"La vita è bella\") & (total_df['year'] == 1997),['winner']] = False\n",
    "total_df.loc[(total_df['original_title'] == \"Wo hu cang long\") & (total_df['year'] == 2000),['winner']] = False\n",
    "total_df.loc[(total_df['original_title'] == \"Moulin Rouge!\") & (total_df['year'] == 2001),['winner']] = False\n",
    "total_df.loc[(total_df['original_title'] == \"Crash\") & (total_df['year'] == 2004),['winner']] = True\n",
    "total_df.loc[(total_df['original_title'] == \"The Hurt Locker\") & (total_df['year'] == 2008),['winner']] = True\n",
    "total_df.loc[(total_df['original_title'] == \"Precious\") & (total_df['year'] == 2009),['winner']] = False\n",
    "total_df.loc[(total_df['original_title'] == \"Three Billboards Outside Ebbing, Missouri\") & (total_df['year'] == 2017),['winner']] = False\n",
    "total_df.loc[(total_df['original_title'] == \"Once Upon a Time... in Hollywood\") & (total_df['year'] == 2019),['winner']] = False\n",
    "total_df.loc[(total_df['original_title'] == \"Gisaengchung\") & (total_df['year'] == 2019),['winner']] = True\n",
    "total_df.loc[(total_df['original_title'] == \"All Quiet on the Western Fronts\") & (total_df['year'] == 1930),['winner']] = True\n",
    "total_df.loc[(total_df['original_title'] == \"The Big House\") & (total_df['year'] == 1929),['winner']] = False\n",
    "total_df.loc[(total_df['original_title'] == \"The Divorcee\") & (total_df['year'] == 1929),['winner']] = False\n",
    "total_df.loc[(total_df['original_title'] == \"Cimarron\") & (total_df['year'] == 1931),['winner']] = True\n",
    "total_df.loc[(total_df['original_title'] == \"East Lynne\") & (total_df['year'] == 1931),['winner']] = False\n",
    "total_df.loc[(total_df['original_title'] == \"The Front Page\") & (total_df['year'] == 1931),['winner']] = False\n",
    "total_df.loc[(total_df['original_title'] == \"Skippy\") & (total_df['year'] == 1931),['winner']] = False\n",
    "total_df.loc[(total_df['original_title'] == \"Trader Horn\") & (total_df['year'] == 1931),['winner']] = False\n",
    "total_df.loc[(total_df['original_title'] == \"Grand Hotel\") & (total_df['year'] == 1932),['winner']] = True\n",
    "total_df.loc[(total_df['original_title'] == \"One Hour with You\") & (total_df['year'] == 1932),['winner']] = False\n",
    "total_df.loc[(total_df['original_title'] == \"Cavalcade\") & (total_df['year'] == 1933),['winner']] = True\n",
    "total_df.loc[(total_df['original_title'] == \"42nd Street\") & (total_df['year'] == 1933),['winner']] = False\n",
    "total_df.loc[(total_df['original_title'] == \"Lady for a Day\") & (total_df['year'] == 1933),['winner']] = False\n",
    "total_df.loc[(total_df['original_title'] == \"Little Women\") & (total_df['year'] == 1933),['winner']] = False\n",
    "total_df.loc[(total_df['original_title'] == \"The Private Life of Henry VIII.\") & (total_df['year'] == 1933),['winner']] = False\n",
    "total_df.loc[(total_df['original_title'] == \"She Done Him Wrong\") & (total_df['year'] == 1933),['winner']] = False\n",
    "total_df.loc[(total_df['original_title'] == \"State Fair\") & (total_df['year'] == 1933),['winner']] = False\n",
    "total_df.loc[(total_df['original_title'] == \"The White Parade\") & (total_df['year'] == 2009),['winner']] = False\n",
    "total_df.loc[(total_df['original_title'] == \"The Personal History, Adventures, Experience, & Observation of David Copperfield the Younger\") & (total_df['year'] == 1935),['winner']] = False\n",
    "total_df.loc[(total_df['original_title'] == \"Les Misérables\") & (total_df['year'] == 1935),['winner']] = False\n",
    "total_df.loc[(total_df['original_title'] == \"A Tale of Two Cities\") & (total_df['year'] == 1935),['winner']] = False\n",
    "total_df.loc[(total_df['original_title'] == \"In Which We Serve\") & (total_df['year'] == 1942),['winner']] = False\n",
    "total_df.loc[(total_df['original_title'] == \"The Chronicle History of King Henry the Fifth with His Battell Fought at Agincourt in France\") & (total_df['year'] == 1944),['winner']] = False\n",
    "total_df.loc[(total_df['original_title'] == \"Great Expectations\") & (total_df['year'] == 1946),['winner']] = False\n",
    "total_df.loc[(total_df['original_title'] == \"All About Eve\") & (total_df['year'] == 1950),['winner']] = True\n",
    "total_df.loc[(total_df['original_title'] == \"Decision Before Dawn\") & (total_df['year'] == 1951),['winner']] = False\n",
    "total_df.loc[(total_df['original_title'] == \"La grande illusion\") & (total_df['year'] == 1937),['winner']] = False\n"
   ]
  },
  {
   "cell_type": "code",
   "execution_count": 10,
   "metadata": {},
   "outputs": [],
   "source": [
    "#Add a nominated column by setting all the films that weren't winners to True from the Oscars DF\n",
    "total_df['nominated'] = ~total_df['winner'].isnull()\n",
    "merged = total_df[~total_df['imdb_title_id'].isnull()]\n",
    "merged = merged.drop('title',axis=1) #drop additional title column"
   ]
  },
  {
   "cell_type": "markdown",
   "metadata": {},
   "source": [
    "Now we drop the films in the DF that don't have values in genre, duration, language, country, avg_vote, or metascore. We also change all NaN values in winner and nominated to False."
   ]
  },
  {
   "cell_type": "code",
   "execution_count": 11,
   "metadata": {},
   "outputs": [],
   "source": [
    "merged = merged.drop(merged[merged['genre'].isna()].index)\n",
    "merged = merged.drop(merged[merged['duration'].isna()].index)\n",
    "merged = merged.drop(merged[merged['language'].isna()].index)\n",
    "merged = merged.drop(merged[merged['language'].str.contains('None')].index)\n",
    "merged = merged.drop(merged[merged['country'].isna()].index)\n",
    "merged = merged.drop(merged[merged['avg_vote'].isna()].index)\n",
    "merged.loc[merged['metascore'].isna(),'metascore'] = merged['avg_vote'].mul(10) #We fill in the missing metascores with avg rating * 10 for simplicity.\n",
    "merged['winner'].fillna(False, inplace=True)\n",
    "merged[['winner','nominated']] = merged[['winner','nominated']].astype('int64')"
   ]
  },
  {
   "cell_type": "code",
   "execution_count": 12,
   "metadata": {},
   "outputs": [],
   "source": [
    "merged = merged.reset_index().drop('index', axis=1)"
   ]
  },
  {
   "cell_type": "code",
   "execution_count": 13,
   "metadata": {},
   "outputs": [],
   "source": [
    "#We change each of the features with multiple values into lists so that we can use One-Hot Encoding later on these categories\n",
    "merged['country'] = merged['country'].str.split(', ')\n",
    "merged['genre'] = merged['genre'].str.split(', ')\n",
    "merged['language'] = merged['language'].str.split(', ')"
   ]
  },
  {
   "cell_type": "code",
   "execution_count": 14,
   "metadata": {},
   "outputs": [
    {
     "data": {
      "text/html": [
       "<div>\n",
       "<style scoped>\n",
       "    .dataframe tbody tr th:only-of-type {\n",
       "        vertical-align: middle;\n",
       "    }\n",
       "\n",
       "    .dataframe tbody tr th {\n",
       "        vertical-align: top;\n",
       "    }\n",
       "\n",
       "    .dataframe thead th {\n",
       "        text-align: right;\n",
       "    }\n",
       "</style>\n",
       "<table border=\"1\" class=\"dataframe\">\n",
       "  <thead>\n",
       "    <tr style=\"text-align: right;\">\n",
       "      <th></th>\n",
       "      <th>original_title</th>\n",
       "      <th>year</th>\n",
       "      <th>genre</th>\n",
       "      <th>duration</th>\n",
       "      <th>country</th>\n",
       "      <th>language</th>\n",
       "      <th>avg_vote</th>\n",
       "      <th>votes</th>\n",
       "      <th>metascore</th>\n",
       "      <th>winner</th>\n",
       "      <th>nominated</th>\n",
       "    </tr>\n",
       "  </thead>\n",
       "  <tbody>\n",
       "    <tr>\n",
       "      <th>tt0002101</th>\n",
       "      <td>Cleopatra</td>\n",
       "      <td>1912</td>\n",
       "      <td>[Drama, History]</td>\n",
       "      <td>100.0</td>\n",
       "      <td>[USA]</td>\n",
       "      <td>[English]</td>\n",
       "      <td>5.2</td>\n",
       "      <td>446.0</td>\n",
       "      <td>52.0</td>\n",
       "      <td>0</td>\n",
       "      <td>0</td>\n",
       "    </tr>\n",
       "    <tr>\n",
       "      <th>tt0002130</th>\n",
       "      <td>L'Inferno</td>\n",
       "      <td>1911</td>\n",
       "      <td>[Adventure, Drama, Fantasy]</td>\n",
       "      <td>68.0</td>\n",
       "      <td>[Italy]</td>\n",
       "      <td>[Italian]</td>\n",
       "      <td>7.0</td>\n",
       "      <td>2237.0</td>\n",
       "      <td>70.0</td>\n",
       "      <td>0</td>\n",
       "      <td>0</td>\n",
       "    </tr>\n",
       "    <tr>\n",
       "      <th>tt0002199</th>\n",
       "      <td>From the Manger to the Cross; or, Jesus of Naz...</td>\n",
       "      <td>1912</td>\n",
       "      <td>[Biography, Drama]</td>\n",
       "      <td>60.0</td>\n",
       "      <td>[USA]</td>\n",
       "      <td>[English]</td>\n",
       "      <td>5.7</td>\n",
       "      <td>484.0</td>\n",
       "      <td>57.0</td>\n",
       "      <td>0</td>\n",
       "      <td>0</td>\n",
       "    </tr>\n",
       "    <tr>\n",
       "      <th>tt0002423</th>\n",
       "      <td>Madame DuBarry</td>\n",
       "      <td>1919</td>\n",
       "      <td>[Biography, Drama, Romance]</td>\n",
       "      <td>85.0</td>\n",
       "      <td>[Germany]</td>\n",
       "      <td>[German]</td>\n",
       "      <td>6.8</td>\n",
       "      <td>753.0</td>\n",
       "      <td>68.0</td>\n",
       "      <td>0</td>\n",
       "      <td>0</td>\n",
       "    </tr>\n",
       "    <tr>\n",
       "      <th>tt0002445</th>\n",
       "      <td>Quo Vadis?</td>\n",
       "      <td>1913</td>\n",
       "      <td>[Drama, History]</td>\n",
       "      <td>120.0</td>\n",
       "      <td>[Italy]</td>\n",
       "      <td>[Italian]</td>\n",
       "      <td>6.2</td>\n",
       "      <td>273.0</td>\n",
       "      <td>62.0</td>\n",
       "      <td>0</td>\n",
       "      <td>0</td>\n",
       "    </tr>\n",
       "    <tr>\n",
       "      <th>...</th>\n",
       "      <td>...</td>\n",
       "      <td>...</td>\n",
       "      <td>...</td>\n",
       "      <td>...</td>\n",
       "      <td>...</td>\n",
       "      <td>...</td>\n",
       "      <td>...</td>\n",
       "      <td>...</td>\n",
       "      <td>...</td>\n",
       "      <td>...</td>\n",
       "      <td>...</td>\n",
       "    </tr>\n",
       "    <tr>\n",
       "      <th>tt11355340</th>\n",
       "      <td>Bangaru Bullodu</td>\n",
       "      <td>2021</td>\n",
       "      <td>[Drama]</td>\n",
       "      <td>129.0</td>\n",
       "      <td>[India]</td>\n",
       "      <td>[Telugu]</td>\n",
       "      <td>5.7</td>\n",
       "      <td>121.0</td>\n",
       "      <td>57.0</td>\n",
       "      <td>0</td>\n",
       "      <td>0</td>\n",
       "    </tr>\n",
       "    <tr>\n",
       "      <th>tt11760270</th>\n",
       "      <td>BIR</td>\n",
       "      <td>2020</td>\n",
       "      <td>[Action, Drama, Thriller]</td>\n",
       "      <td>142.0</td>\n",
       "      <td>[Bangladesh]</td>\n",
       "      <td>[Bengali]</td>\n",
       "      <td>4.9</td>\n",
       "      <td>206.0</td>\n",
       "      <td>49.0</td>\n",
       "      <td>0</td>\n",
       "      <td>0</td>\n",
       "    </tr>\n",
       "    <tr>\n",
       "      <th>tt12737834</th>\n",
       "      <td>Plaza</td>\n",
       "      <td>2020</td>\n",
       "      <td>[Drama]</td>\n",
       "      <td>82.0</td>\n",
       "      <td>[Turkey]</td>\n",
       "      <td>[Turkish]</td>\n",
       "      <td>5.3</td>\n",
       "      <td>106.0</td>\n",
       "      <td>53.0</td>\n",
       "      <td>0</td>\n",
       "      <td>0</td>\n",
       "    </tr>\n",
       "    <tr>\n",
       "      <th>tt12357296</th>\n",
       "      <td>Un tal Alonso Quijano</td>\n",
       "      <td>2020</td>\n",
       "      <td>[Drama]</td>\n",
       "      <td>102.0</td>\n",
       "      <td>[Colombia]</td>\n",
       "      <td>[Spanish]</td>\n",
       "      <td>6.2</td>\n",
       "      <td>105.0</td>\n",
       "      <td>62.0</td>\n",
       "      <td>0</td>\n",
       "      <td>0</td>\n",
       "    </tr>\n",
       "    <tr>\n",
       "      <th>tt12323842</th>\n",
       "      <td>Gina Brillon: The Floor is Lava</td>\n",
       "      <td>2020</td>\n",
       "      <td>[Comedy]</td>\n",
       "      <td>60.0</td>\n",
       "      <td>[USA]</td>\n",
       "      <td>[English]</td>\n",
       "      <td>6.1</td>\n",
       "      <td>126.0</td>\n",
       "      <td>61.0</td>\n",
       "      <td>0</td>\n",
       "      <td>0</td>\n",
       "    </tr>\n",
       "  </tbody>\n",
       "</table>\n",
       "<p>86020 rows × 11 columns</p>\n",
       "</div>"
      ],
      "text/plain": [
       "                                               original_title  year  \\\n",
       "tt0002101                                           Cleopatra  1912   \n",
       "tt0002130                                           L'Inferno  1911   \n",
       "tt0002199   From the Manger to the Cross; or, Jesus of Naz...  1912   \n",
       "tt0002423                                      Madame DuBarry  1919   \n",
       "tt0002445                                          Quo Vadis?  1913   \n",
       "...                                                       ...   ...   \n",
       "tt11355340                                    Bangaru Bullodu  2021   \n",
       "tt11760270                                                BIR  2020   \n",
       "tt12737834                                              Plaza  2020   \n",
       "tt12357296                              Un tal Alonso Quijano  2020   \n",
       "tt12323842                    Gina Brillon: The Floor is Lava  2020   \n",
       "\n",
       "                                  genre  duration       country   language  \\\n",
       "tt0002101              [Drama, History]     100.0         [USA]  [English]   \n",
       "tt0002130   [Adventure, Drama, Fantasy]      68.0       [Italy]  [Italian]   \n",
       "tt0002199            [Biography, Drama]      60.0         [USA]  [English]   \n",
       "tt0002423   [Biography, Drama, Romance]      85.0     [Germany]   [German]   \n",
       "tt0002445              [Drama, History]     120.0       [Italy]  [Italian]   \n",
       "...                                 ...       ...           ...        ...   \n",
       "tt11355340                      [Drama]     129.0       [India]   [Telugu]   \n",
       "tt11760270    [Action, Drama, Thriller]     142.0  [Bangladesh]  [Bengali]   \n",
       "tt12737834                      [Drama]      82.0      [Turkey]  [Turkish]   \n",
       "tt12357296                      [Drama]     102.0    [Colombia]  [Spanish]   \n",
       "tt12323842                     [Comedy]      60.0         [USA]  [English]   \n",
       "\n",
       "            avg_vote   votes  metascore  winner  nominated  \n",
       "tt0002101        5.2   446.0       52.0       0          0  \n",
       "tt0002130        7.0  2237.0       70.0       0          0  \n",
       "tt0002199        5.7   484.0       57.0       0          0  \n",
       "tt0002423        6.8   753.0       68.0       0          0  \n",
       "tt0002445        6.2   273.0       62.0       0          0  \n",
       "...              ...     ...        ...     ...        ...  \n",
       "tt11355340       5.7   121.0       57.0       0          0  \n",
       "tt11760270       4.9   206.0       49.0       0          0  \n",
       "tt12737834       5.3   106.0       53.0       0          0  \n",
       "tt12357296       6.2   105.0       62.0       0          0  \n",
       "tt12323842       6.1   126.0       61.0       0          0  \n",
       "\n",
       "[86020 rows x 11 columns]"
      ]
     },
     "execution_count": 14,
     "metadata": {},
     "output_type": "execute_result"
    }
   ],
   "source": [
    "merged.index = merged['imdb_title_id']\n",
    "merged = merged.drop(columns=['imdb_title_id'])\n",
    "merged = merged.rename_axis(None)\n",
    "\n",
    "merged"
   ]
  },
  {
   "cell_type": "markdown",
   "metadata": {},
   "source": [
    "## Exploratory Data Analysis\n",
    "\n",
    "Let's examine some characteristics of the features and how each are distributed with respect to winners and nominations.\n",
    "\n",
    "### Correlation Matrix\n",
    "First, we check the correlation matrix to see if any feature has a linear relationship with each other or with winner/nominated."
   ]
  },
  {
   "cell_type": "code",
   "execution_count": 15,
   "metadata": {},
   "outputs": [
    {
     "data": {
      "text/html": [
       "<div>\n",
       "<style scoped>\n",
       "    .dataframe tbody tr th:only-of-type {\n",
       "        vertical-align: middle;\n",
       "    }\n",
       "\n",
       "    .dataframe tbody tr th {\n",
       "        vertical-align: top;\n",
       "    }\n",
       "\n",
       "    .dataframe thead th {\n",
       "        text-align: right;\n",
       "    }\n",
       "</style>\n",
       "<table border=\"1\" class=\"dataframe\">\n",
       "  <thead>\n",
       "    <tr style=\"text-align: right;\">\n",
       "      <th></th>\n",
       "      <th>year</th>\n",
       "      <th>duration</th>\n",
       "      <th>avg_vote</th>\n",
       "      <th>votes</th>\n",
       "      <th>metascore</th>\n",
       "      <th>winner</th>\n",
       "      <th>nominated</th>\n",
       "    </tr>\n",
       "  </thead>\n",
       "  <tbody>\n",
       "    <tr>\n",
       "      <th>year</th>\n",
       "      <td>1.000000</td>\n",
       "      <td>0.171592</td>\n",
       "      <td>-0.214125</td>\n",
       "      <td>0.057386</td>\n",
       "      <td>-0.235421</td>\n",
       "      <td>-0.026438</td>\n",
       "      <td>-0.067593</td>\n",
       "    </tr>\n",
       "    <tr>\n",
       "      <th>duration</th>\n",
       "      <td>0.171592</td>\n",
       "      <td>1.000000</td>\n",
       "      <td>0.243833</td>\n",
       "      <td>0.126308</td>\n",
       "      <td>0.209168</td>\n",
       "      <td>0.052522</td>\n",
       "      <td>0.089626</td>\n",
       "    </tr>\n",
       "    <tr>\n",
       "      <th>avg_vote</th>\n",
       "      <td>-0.214125</td>\n",
       "      <td>0.243833</td>\n",
       "      <td>1.000000</td>\n",
       "      <td>0.166974</td>\n",
       "      <td>0.902199</td>\n",
       "      <td>0.049346</td>\n",
       "      <td>0.108849</td>\n",
       "    </tr>\n",
       "    <tr>\n",
       "      <th>votes</th>\n",
       "      <td>0.057386</td>\n",
       "      <td>0.126308</td>\n",
       "      <td>0.166974</td>\n",
       "      <td>1.000000</td>\n",
       "      <td>0.083332</td>\n",
       "      <td>0.201762</td>\n",
       "      <td>0.285167</td>\n",
       "    </tr>\n",
       "    <tr>\n",
       "      <th>metascore</th>\n",
       "      <td>-0.235421</td>\n",
       "      <td>0.209168</td>\n",
       "      <td>0.902199</td>\n",
       "      <td>0.083332</td>\n",
       "      <td>1.000000</td>\n",
       "      <td>0.058016</td>\n",
       "      <td>0.120291</td>\n",
       "    </tr>\n",
       "    <tr>\n",
       "      <th>winner</th>\n",
       "      <td>-0.026438</td>\n",
       "      <td>0.052522</td>\n",
       "      <td>0.049346</td>\n",
       "      <td>0.201762</td>\n",
       "      <td>0.058016</td>\n",
       "      <td>1.000000</td>\n",
       "      <td>0.401922</td>\n",
       "    </tr>\n",
       "    <tr>\n",
       "      <th>nominated</th>\n",
       "      <td>-0.067593</td>\n",
       "      <td>0.089626</td>\n",
       "      <td>0.108849</td>\n",
       "      <td>0.285167</td>\n",
       "      <td>0.120291</td>\n",
       "      <td>0.401922</td>\n",
       "      <td>1.000000</td>\n",
       "    </tr>\n",
       "  </tbody>\n",
       "</table>\n",
       "</div>"
      ],
      "text/plain": [
       "               year  duration  avg_vote     votes  metascore    winner  \\\n",
       "year       1.000000  0.171592 -0.214125  0.057386  -0.235421 -0.026438   \n",
       "duration   0.171592  1.000000  0.243833  0.126308   0.209168  0.052522   \n",
       "avg_vote  -0.214125  0.243833  1.000000  0.166974   0.902199  0.049346   \n",
       "votes      0.057386  0.126308  0.166974  1.000000   0.083332  0.201762   \n",
       "metascore -0.235421  0.209168  0.902199  0.083332   1.000000  0.058016   \n",
       "winner    -0.026438  0.052522  0.049346  0.201762   0.058016  1.000000   \n",
       "nominated -0.067593  0.089626  0.108849  0.285167   0.120291  0.401922   \n",
       "\n",
       "           nominated  \n",
       "year       -0.067593  \n",
       "duration    0.089626  \n",
       "avg_vote    0.108849  \n",
       "votes       0.285167  \n",
       "metascore   0.120291  \n",
       "winner      0.401922  \n",
       "nominated   1.000000  "
      ]
     },
     "execution_count": 15,
     "metadata": {},
     "output_type": "execute_result"
    }
   ],
   "source": [
    "merged.corr()"
   ]
  },
  {
   "cell_type": "markdown",
   "metadata": {},
   "source": [
    "We see that besides the expected linear relationships (avg_vote with metascore) and (winner with nominated), we don't have much in terms of features being too linearly correlated with each other.\n",
    "However, there is also not a strong correlation between winner/nominated with any of the other features. We can show this in the heatmap."
   ]
  },
  {
   "cell_type": "code",
   "execution_count": 16,
   "metadata": {},
   "outputs": [
    {
     "data": {
      "image/png": "[encoded data removed]",
      "text/plain": [
       "<Figure size 432x288 with 2 Axes>"
      ]
     },
     "metadata": {
      "needs_background": "light"
     },
     "output_type": "display_data"
    }
   ],
   "source": [
    "merged_corr = merged.corr()\n",
    "sns.heatmap(merged_corr)\n",
    "plt.title('Correlation Heatmap')\n",
    "plt.show()"
   ]
  },
  {
   "cell_type": "code",
   "execution_count": 17,
   "metadata": {},
   "outputs": [
    {
     "data": {
      "text/html": [
       "<div>\n",
       "<style scoped>\n",
       "    .dataframe tbody tr th:only-of-type {\n",
       "        vertical-align: middle;\n",
       "    }\n",
       "\n",
       "    .dataframe tbody tr th {\n",
       "        vertical-align: top;\n",
       "    }\n",
       "\n",
       "    .dataframe thead th {\n",
       "        text-align: right;\n",
       "    }\n",
       "</style>\n",
       "<table border=\"1\" class=\"dataframe\">\n",
       "  <thead>\n",
       "    <tr style=\"text-align: right;\">\n",
       "      <th></th>\n",
       "      <th>year</th>\n",
       "      <th>duration</th>\n",
       "      <th>avg_vote</th>\n",
       "      <th>votes</th>\n",
       "      <th>metascore</th>\n",
       "      <th>winner</th>\n",
       "      <th>nominated</th>\n",
       "    </tr>\n",
       "  </thead>\n",
       "  <tbody>\n",
       "    <tr>\n",
       "      <th>count</th>\n",
       "      <td>86020.000000</td>\n",
       "      <td>86020.000000</td>\n",
       "      <td>86020.000000</td>\n",
       "      <td>8.602000e+04</td>\n",
       "      <td>86020.000000</td>\n",
       "      <td>86020.000000</td>\n",
       "      <td>86020.000000</td>\n",
       "    </tr>\n",
       "    <tr>\n",
       "      <th>mean</th>\n",
       "      <td>1993.914311</td>\n",
       "      <td>100.442548</td>\n",
       "      <td>5.897179</td>\n",
       "      <td>9.521336e+03</td>\n",
       "      <td>57.805813</td>\n",
       "      <td>0.001035</td>\n",
       "      <td>0.006371</td>\n",
       "    </tr>\n",
       "    <tr>\n",
       "      <th>std</th>\n",
       "      <td>24.023091</td>\n",
       "      <td>22.414054</td>\n",
       "      <td>1.235859</td>\n",
       "      <td>5.354427e+04</td>\n",
       "      <td>13.589289</td>\n",
       "      <td>0.032149</td>\n",
       "      <td>0.079562</td>\n",
       "    </tr>\n",
       "    <tr>\n",
       "      <th>min</th>\n",
       "      <td>1911.000000</td>\n",
       "      <td>41.000000</td>\n",
       "      <td>1.000000</td>\n",
       "      <td>9.900000e+01</td>\n",
       "      <td>1.000000</td>\n",
       "      <td>0.000000</td>\n",
       "      <td>0.000000</td>\n",
       "    </tr>\n",
       "    <tr>\n",
       "      <th>25%</th>\n",
       "      <td>1979.000000</td>\n",
       "      <td>88.000000</td>\n",
       "      <td>5.200000</td>\n",
       "      <td>2.050000e+02</td>\n",
       "      <td>50.000000</td>\n",
       "      <td>0.000000</td>\n",
       "      <td>0.000000</td>\n",
       "    </tr>\n",
       "    <tr>\n",
       "      <th>50%</th>\n",
       "      <td>2003.000000</td>\n",
       "      <td>96.000000</td>\n",
       "      <td>6.100000</td>\n",
       "      <td>4.870000e+02</td>\n",
       "      <td>60.000000</td>\n",
       "      <td>0.000000</td>\n",
       "      <td>0.000000</td>\n",
       "    </tr>\n",
       "    <tr>\n",
       "      <th>75%</th>\n",
       "      <td>2013.000000</td>\n",
       "      <td>108.000000</td>\n",
       "      <td>6.800000</td>\n",
       "      <td>1.789000e+03</td>\n",
       "      <td>67.000000</td>\n",
       "      <td>0.000000</td>\n",
       "      <td>0.000000</td>\n",
       "    </tr>\n",
       "    <tr>\n",
       "      <th>max</th>\n",
       "      <td>2021.000000</td>\n",
       "      <td>808.000000</td>\n",
       "      <td>9.900000</td>\n",
       "      <td>2.278845e+06</td>\n",
       "      <td>100.000000</td>\n",
       "      <td>1.000000</td>\n",
       "      <td>1.000000</td>\n",
       "    </tr>\n",
       "  </tbody>\n",
       "</table>\n",
       "</div>"
      ],
      "text/plain": [
       "               year      duration      avg_vote         votes     metascore  \\\n",
       "count  86020.000000  86020.000000  86020.000000  8.602000e+04  86020.000000   \n",
       "mean    1993.914311    100.442548      5.897179  9.521336e+03     57.805813   \n",
       "std       24.023091     22.414054      1.235859  5.354427e+04     13.589289   \n",
       "min     1911.000000     41.000000      1.000000  9.900000e+01      1.000000   \n",
       "25%     1979.000000     88.000000      5.200000  2.050000e+02     50.000000   \n",
       "50%     2003.000000     96.000000      6.100000  4.870000e+02     60.000000   \n",
       "75%     2013.000000    108.000000      6.800000  1.789000e+03     67.000000   \n",
       "max     2021.000000    808.000000      9.900000  2.278845e+06    100.000000   \n",
       "\n",
       "             winner     nominated  \n",
       "count  86020.000000  86020.000000  \n",
       "mean       0.001035      0.006371  \n",
       "std        0.032149      0.079562  \n",
       "min        0.000000      0.000000  \n",
       "25%        0.000000      0.000000  \n",
       "50%        0.000000      0.000000  \n",
       "75%        0.000000      0.000000  \n",
       "max        1.000000      1.000000  "
      ]
     },
     "execution_count": 17,
     "metadata": {},
     "output_type": "execute_result"
    }
   ],
   "source": [
    "merged.describe()"
   ]
  },
  {
   "cell_type": "markdown",
   "metadata": {},
   "source": [
    "### One-Hot Encoding\n",
    "\n",
    "Before we can explore the categorical columns, we have to do some encoding on those features with multiple values.\\\n",
    "In this case, I decided to one-hot encode the Genre and the Country and omitted the Language. Language and Country are already closely correlated, and one-hot encoding both would have created too many features, even after dimesionality reduction."
   ]
  },
  {
   "cell_type": "code",
   "execution_count": 18,
   "metadata": {},
   "outputs": [],
   "source": [
    "#Manual One-Hot Encoding on genre\n",
    "df = merged.copy()\n",
    "for index, row in df.iterrows():\n",
    "    for genre in row['genre']:\n",
    "        df.at[index, genre] = 1\n",
    "count_genres = df.shape[1] - len(merged.columns)\n",
    "\n",
    "#Manual One-Hot Encoding on country\n",
    "for index, row in df.iterrows():\n",
    "    for country in row['country']:\n",
    "        df.at[index, country] = 1\n",
    "count_country = df.shape[1] - len(merged.columns) - count_genres\n",
    "        \n",
    "df.fillna(0, inplace=True)"
   ]
  },
  {
   "cell_type": "code",
   "execution_count": 19,
   "metadata": {},
   "outputs": [],
   "source": [
    "#Generate list of genres and list of countries as indices for easier access\n",
    "genre_list = df.columns[len(merged.columns):(len(merged.columns) + count_genres)]\n",
    "country_list = df.columns[(len(merged.columns) + count_genres):]"
   ]
  },
  {
   "cell_type": "markdown",
   "metadata": {},
   "source": [
    "Now I decided to remove the columns that only had 1 film for genre or country, i.e. the outliers. This would reduce the chance of overfitting in the models ahead. We then fix the indices for genre and country."
   ]
  },
  {
   "cell_type": "code",
   "execution_count": 20,
   "metadata": {},
   "outputs": [],
   "source": [
    "#Find genres/countries that only have 1 film\n",
    "genre_out = df[genre_list].loc[:,(df[genre_list].sum() < 2)].columns\n",
    "country_out = df[country_list].loc[:,(df[country_list].sum() < 2)].columns\n",
    "\n",
    "#Drop those columns\n",
    "df.drop(genre_out, axis=1, inplace=True)\n",
    "df.drop(country_out, axis=1, inplace=True)\n",
    "\n",
    "#Fix genre/country column indices\n",
    "genre_list = genre_list.drop(genre_out)\n",
    "country_list = country_list.drop(country_out)\n",
    "\n",
    "#Remove those films that were outliers that had those values from before\n",
    "df.drop(index=df[df[genre_list].sum(axis=1) == 0].index, inplace=True)\n",
    "df.drop(index=df[df[country_list].sum(axis=1) == 0].index, inplace=True)"
   ]
  },
  {
   "cell_type": "markdown",
   "metadata": {},
   "source": [
    "### Nominations & Winners \n",
    "\n",
    "Now we examine some characteristics of the winners and nominations, namely how the genres, countries, duration, avg rating, and metascore are distributed."
   ]
  },
  {
   "cell_type": "code",
   "execution_count": 21,
   "metadata": {},
   "outputs": [],
   "source": [
    "#DF of only genres with encoding\n",
    "genres_nominated = df[df['nominated'] == 1].loc[:,genre_list]\n",
    "genres_winners = df[df['winner'] == 1].loc[:,genre_list]\n",
    "\n",
    "#DF of only countries with encoding\n",
    "countries_nominated = df[df['nominated'] == 1].loc[:,country_list]\n",
    "countries_winners = df[df['winner'] == 1].loc[:,country_list]\n",
    "\n",
    "\n",
    "genres_sumN = genres_nominated.sum()[genres_nominated.sum() > 0]\n",
    "genres_sumW = genres_winners.sum()[genres_winners.sum() > 0]\n",
    "countries_sumN = countries_nominated.sum()[countries_nominated.sum() > 1]\n",
    "countries_sumW = countries_winners.sum()[countries_winners.sum() > 1]"
   ]
  },
  {
   "cell_type": "code",
   "execution_count": 22,
   "metadata": {},
   "outputs": [
    {
     "data": {
      "image/png": "[encoded data removed]",
      "text/plain": [
       "<Figure size 1440x576 with 2 Axes>"
      ]
     },
     "metadata": {
      "needs_background": "light"
     },
     "output_type": "display_data"
    }
   ],
   "source": [
    "plt.figure(figsize=(20,8))\n",
    "plt.subplot(1,2,1)\n",
    "genres_sumN.sort_values().plot(kind='barh')\n",
    "plt.title('Genre Of Nominated')\n",
    "plt.ylabel('Genre')\n",
    "plt.subplot(1,2,2)\n",
    "genres_sumW.sort_values().plot(kind='barh')\n",
    "plt.title('Genre Of Winners')\n",
    "plt.ylabel('Genre')\n",
    "plt.show()"
   ]
  },
  {
   "cell_type": "markdown",
   "metadata": {},
   "source": [
    "First we take a look at how the genres are distributed, for nominations and winners.\n",
    "\n",
    "We see that the most common winners/nominations are Drama, Romance, Biography, Comedy, Crime & History. This makes sense in the real world since movies with subject matters about people of history/wartime tend to be nominated at a higher rate, hence the \"Oscar bait\" films with these characteristics."
   ]
  },
  {
   "cell_type": "markdown",
   "metadata": {},
   "source": [
    "Now we take a look at every 2 pair of genres and see which tend to get nominated/win. To do this, we form a dot product of each one-hot encoded DF with itself and form a one-hot encoding on this resulting DF.\n",
    "We do this for both genres and countries."
   ]
  },
  {
   "cell_type": "code",
   "execution_count": 23,
   "metadata": {},
   "outputs": [],
   "source": [
    "#Dot Product\n",
    "genreN_dot = genres_nominated.T.dot(genres_nominated)\n",
    "xlen = len(genreN_dot.index)\n",
    "ylen = len(genreN_dot.columns)\n",
    "genreN_df = pd.DataFrame([np.nan])\n",
    "\n",
    "#Form One-hot Encoding for Paired Genres\n",
    "while xlen > -1:\n",
    "    while ylen > -1:\n",
    "        if xlen != ylen:\n",
    "            gColumn = genreN_dot.index[xlen - 1] + ', ' + genreN_dot.columns[ylen - 1]\n",
    "            genreN_df[gColumn] = genreN_dot.loc[genreN_dot.index[xlen - 1], genreN_dot.columns[ylen - 1]]\n",
    "            ylen -= 1\n",
    "        else:\n",
    "            ylen -= 1\n",
    "            continue\n",
    "    xlen -= 1\n",
    "    ylen = xlen\n",
    "\n",
    "#Drop any columns that didn't have values\n",
    "genreN_df = genreN_df.drop(columns=0)\n",
    "genreN_df = genreN_df.drop(columns=genreN_df.columns[(genreN_df == 0).all()])\n",
    "genreN_df = genreN_df.T.sort_values(by=0).tail(20)"
   ]
  },
  {
   "cell_type": "code",
   "execution_count": 24,
   "metadata": {},
   "outputs": [],
   "source": [
    "#Repeat for Countries\n",
    "genreW_dot = genres_winners.T.dot(genres_winners)\n",
    "xlen = len(genreW_dot.index)\n",
    "ylen = len(genreW_dot.columns)\n",
    "genreW_df = pd.DataFrame([np.nan])\n",
    "\n",
    "while xlen > -1:\n",
    "    while ylen > -1:\n",
    "        if xlen != ylen:\n",
    "            gColumn = genreW_dot.index[xlen - 1] + ', ' + genreW_dot.columns[ylen - 1]\n",
    "            genreW_df[gColumn] = genreW_dot.loc[genreW_dot.index[xlen - 1], genreW_dot.columns[ylen - 1]]\n",
    "            ylen -= 1\n",
    "        else:\n",
    "            ylen -= 1\n",
    "            continue\n",
    "    xlen -= 1\n",
    "    ylen = xlen\n",
    "\n",
    "genreW_df = genreW_df.drop(columns=0)\n",
    "genreW_df = genreW_df.drop(columns=genreW_df.columns[(genreW_df == 0).all()])\n",
    "genreW_df = genreW_df.T.sort_values(by=0).tail(20)"
   ]
  },
  {
   "cell_type": "code",
   "execution_count": 25,
   "metadata": {},
   "outputs": [
    {
     "data": {
      "image/png": "[encoded data removed]",
      "text/plain": [
       "<Figure size 1584x576 with 2 Axes>"
      ]
     },
     "metadata": {
      "needs_background": "light"
     },
     "output_type": "display_data"
    }
   ],
   "source": [
    "plt.figure(figsize=(22,8))\n",
    "plt.subplot(1,2,1)\n",
    "genreN_df.squeeze().plot(kind='barh',legend=False)\n",
    "plt.title('Best Pairs Of Genres Nominated')\n",
    "\n",
    "plt.subplot(1,2,2)\n",
    "genreW_df.squeeze().plot(kind='barh',legend=False)\n",
    "plt.title('Best Pairs Of Genres Winner')\n",
    "\n",
    "plt.show()"
   ]
  },
  {
   "cell_type": "markdown",
   "metadata": {},
   "source": [
    "We see from the bar charts above, the most common nominations/winners involve some sort of Romance/Drama and Biography/Drama. We again see the typical \"Oscar bait\" categories, like Crime/Drama and History/Drama in the winners and nominations, suggesting that Oscar voters lean towards certain types of films.\\\n",
    "Surprisingly, at least in my opinion, Comedy/Romance is 6th of nominated genres.\n",
    "\n",
    "We can extend this evaluation to even more combinations of genres, but that can be for a later exercise."
   ]
  },
  {
   "cell_type": "code",
   "execution_count": 26,
   "metadata": {},
   "outputs": [
    {
     "data": {
      "image/png": "[encoded data removed]",
      "text/plain": [
       "<Figure size 1440x576 with 2 Axes>"
      ]
     },
     "metadata": {
      "needs_background": "light"
     },
     "output_type": "display_data"
    }
   ],
   "source": [
    "plt.figure(figsize=(20,8))\n",
    "plt.subplot(1,2,1)\n",
    "countries_sumN.sort_values().plot(kind='barh')\n",
    "plt.title('Country Of Nominated')\n",
    "plt.ylabel('Country')\n",
    "plt.subplot(1,2,2)\n",
    "countries_sumW.sort_values().plot(kind='barh')\n",
    "plt.title('Country Of Winners')\n",
    "plt.ylabel('Country')\n",
    "plt.show()"
   ]
  },
  {
   "cell_type": "markdown",
   "metadata": {},
   "source": [
    "Unsurprisingly, most of the winners were shown in the US. This just confirms what we already know that the Oscar winners/nominations haven't had a pure foreign winner until 2020, when *Parasite* won."
   ]
  },
  {
   "cell_type": "markdown",
   "metadata": {},
   "source": [
    "Now let's take a look at user ratings and metascore."
   ]
  },
  {
   "cell_type": "code",
   "execution_count": 27,
   "metadata": {},
   "outputs": [
    {
     "data": {
      "image/png": "[encoded data removed]",
      "text/plain": [
       "<Figure size 1440x576 with 2 Axes>"
      ]
     },
     "metadata": {
      "needs_background": "light"
     },
     "output_type": "display_data"
    }
   ],
   "source": [
    "plt.figure(figsize=(20,8))\n",
    "plt.subplot(1,2,1)\n",
    "sns.kdeplot(df['avg_vote'])\n",
    "sns.kdeplot(df.loc[df['nominated'] == 1,'avg_vote'])\n",
    "sns.kdeplot(df.loc[df['winner'] == 1,'avg_vote'])\n",
    "plt.title('Distribution of Movie Ratings')\n",
    "plt.xlabel('Average Of Rating')\n",
    "plt.legend(['All Movies','Nominated','Winners'])\n",
    "\n",
    "plt.subplot(1,2,2)\n",
    "sns.kdeplot(df['metascore'])\n",
    "sns.kdeplot(df.loc[df['nominated'] == 1,'metascore'])\n",
    "sns.kdeplot(df.loc[df['winner'] == 1,'metascore'])\n",
    "plt.title('Distribution of Metascore')\n",
    "plt.xlabel('Metascore')\n",
    "plt.legend(['All Movies','Nominated','Winners'])\n",
    "plt.show()"
   ]
  },
  {
   "cell_type": "markdown",
   "metadata": {},
   "source": [
    "Again, we expect the result that winners and nominations tend to have higher user ratings and metascores than the rest of the movies on IMDB, with winners having slightly higer ratings/scores than just nominated films."
   ]
  },
  {
   "cell_type": "code",
   "execution_count": 28,
   "metadata": {},
   "outputs": [
    {
     "data": {
      "image/png": "[encoded data removed]",
      "text/plain": [
       "<Figure size 1080x576 with 1 Axes>"
      ]
     },
     "metadata": {
      "needs_background": "light"
     },
     "output_type": "display_data"
    }
   ],
   "source": [
    "plt.figure(figsize=(15,8))\n",
    "sns.kdeplot(df.loc[df['duration'] < 300, 'duration'])\n",
    "sns.kdeplot(df.loc[df['nominated'] == 1,'duration'])\n",
    "sns.kdeplot(df.loc[df['winner'] == 1,'duration'])\n",
    "plt.title('Distribution of Movie Length')\n",
    "plt.xlabel('Duration')\n",
    "plt.legend(['All Movies','Nominated','Winners'])\n",
    "plt.show()"
   ]
  },
  {
   "cell_type": "markdown",
   "metadata": {},
   "source": [
    "From the distribution of duration, we see that movies that the average duration for a nominated/winner is around 2 hours, which is a bit higher than the average of movies in the IMDB database."
   ]
  },
  {
   "cell_type": "code",
   "execution_count": 29,
   "metadata": {},
   "outputs": [
    {
     "data": {
      "image/png": "[encoded data removed]",
      "text/plain": [
       "<Figure size 1440x576 with 4 Axes>"
      ]
     },
     "metadata": {
      "needs_background": "light"
     },
     "output_type": "display_data"
    }
   ],
   "source": [
    "plt.figure(figsize=(20,8))\n",
    "plt.subplot(1,2,1)\n",
    "sns.heatmap(genres_nominated.loc[:,genres_nominated.sum() > 0].corr())\n",
    "plt.title('Heatmap of Correlation of Genres Nominated')\n",
    "plt.subplot(1,2,2)\n",
    "sns.heatmap(genres_winners.loc[:,genres_winners.sum() > 0].corr())\n",
    "plt.title('Heatmap of Correlation of Genres Winner')\n",
    "plt.show()"
   ]
  },
  {
   "cell_type": "markdown",
   "metadata": {},
   "source": [
    "The above heatmap examines the relations between the genres for movies that are nominated/winner.\\\n",
    "We see the most highly correlated genres are Biography/History, Fantasy/Adventure, Action/Adventure, and Crime/Thriller. These are all very popular and common movie genres, so it would make sense that they are highyl correlated.\n"
   ]
  },
  {
   "cell_type": "code",
   "execution_count": 30,
   "metadata": {},
   "outputs": [
    {
     "data": {
      "image/png": "[encoded data removed]",
      "text/plain": [
       "<Figure size 1440x576 with 4 Axes>"
      ]
     },
     "metadata": {
      "needs_background": "light"
     },
     "output_type": "display_data"
    }
   ],
   "source": [
    "plt.figure(figsize=(20,8))\n",
    "plt.subplot(1,2,1)\n",
    "sns.heatmap(countries_nominated.loc[:,countries_nominated.sum() > 0].corr())\n",
    "plt.title('Heatmap of Correlation of Countries Nominated')\n",
    "plt.subplot(1,2,2)\n",
    "sns.heatmap(countries_winners.loc[:,countries_winners.sum() > 0].corr())\n",
    "plt.title('Heatmap of Correlation of Countries Winner')\n",
    "plt.show()"
   ]
  },
  {
   "cell_type": "markdown",
   "metadata": {},
   "source": [
    "From the heatmap of the countries of winners/nominated, we see some strong correlation between Italy, France, and Belgium, as well as Canada, Mexico, and Australia.\\\n",
    "The US doesn't seem to have much correlation with any of the other countries."
   ]
  },
  {
   "cell_type": "markdown",
   "metadata": {},
   "source": [
    "## Machine Learning And Model Evaluation\n",
    "Now we begin each to test each of the different ML algorithms for classification, and evaluate based on Jaccard Index, F1 Score, and Accuracy/Precision/Recall.\\\n",
    "The end result of these algorithms will hopefully produce models for nominations and winners separately. In our case, I decided to use nominated as a feature for winners, since all winners are firstly nominated. This means we have 2 different feature sets and 2 models in the end. We can use the model for nominations to use in the model for winners.\n",
    "\n",
    "\n",
    "First, we have to make a few design choices on the features. I decided to remove metascore since we had imputed the data from avg votes for missing data. This would have caused a highly correlated and redundant feature.\\\n",
    "We take out the movies that are from 2020 and onwards, since those Oscars haven't happened yet.\\\n",
    "Then we have to scale the data to make the algorithms perform much better.\\\n",
    "Finally, we have to split the data into training and test sets for validation.\n"
   ]
  },
  {
   "cell_type": "code",
   "execution_count": 31,
   "metadata": {},
   "outputs": [],
   "source": [
    "from sklearn.linear_model import LogisticRegression\n",
    "from sklearn.tree import DecisionTreeClassifier\n",
    "from sklearn.ensemble import RandomForestClassifier\n",
    "from sklearn.neighbors import KNeighborsClassifier\n",
    "from sklearn.naive_bayes import GaussianNB\n",
    "from sklearn.preprocessing import StandardScaler, MinMaxScaler\n",
    "from sklearn.model_selection import train_test_split, cross_val_score, GridSearchCV\n",
    "from sklearn.metrics import confusion_matrix, jaccard_score, f1_score, accuracy_score, recall_score, precision_score\n",
    "\n",
    "#Remove all the movies that are above 2020 since Oscars haven't happened yet for 2021\n",
    "df_copy = df.copy()\n",
    "df_copy = df_copy[df['year'] < 2020]\n",
    "\n",
    "\n",
    "#Drop all the unnecessary columns and take out the targets for winners and nominated.\n",
    "yN = df_copy['nominated']\n",
    "yW = df_copy['winner']\n",
    "X_W = df_copy.drop(['original_title','year','metascore','genre','country','language','winner'], axis=1)\n",
    "\n",
    "#We scale the continous data\n",
    "X_W[['avg_vote','duration','votes']] = StandardScaler().fit(X_W[['avg_vote','duration','votes']]).transform(X_W[['avg_vote','duration','votes']])\n",
    "X_N = X_W.drop(['nominated'], axis=1)\n",
    "\n",
    "#Split training and test data\n",
    "X_trainN, X_testN, y_trainN, y_testN = train_test_split(X_N, yN, test_size=0.2)\n",
    "X_trainW, X_testW, y_trainW, y_testW = train_test_split(X_W, yW, test_size=0.2)\n"
   ]
  },
  {
   "cell_type": "markdown",
   "metadata": {},
   "source": [
    "### Logistic Regression\n",
    "We first try logisitic regression as a model.\\\n",
    "We have to tune the hyperparameters for the best performing one. The module GridSearchCV helps greatly with this process and chooses the best performing parameters.\n",
    "\n",
    "Note that the following grid search takes a bit of time to finish, so I will comment this portion out and produce the best parameters afterwards."
   ]
  },
  {
   "cell_type": "code",
   "execution_count": 32,
   "metadata": {},
   "outputs": [],
   "source": [
    "# %%capture\n",
    "# LR = LogisticRegression()\n",
    "# penalty = ['l1','l2']\n",
    "# C = np.logspace(0,4,10)\n",
    "# maxiters =[1000]\n",
    "# solver = ['newton-cg', 'lbfgs', 'liblinear']\n",
    "# hyperparameters = dict(C=C, penalty=penalty, solver=solver, max_iter=maxiters)\n",
    "# gridsearch = GridSearchCV(LR, hyperparameters, cv=4, verbose=0)\n",
    "# bestN = gridsearch.fit(X_trainN, y_trainN)"
   ]
  },
  {
   "cell_type": "code",
   "execution_count": 33,
   "metadata": {},
   "outputs": [
    {
     "data": {
      "text/plain": [
       "{'C': 2.7825594022071245,\n",
       " 'max_iter': 1000,\n",
       " 'penalty': 'l2',\n",
       " 'solver': 'liblinear'}"
      ]
     },
     "execution_count": 33,
     "metadata": {},
     "output_type": "execute_result"
    }
   ],
   "source": [
    "#Best Params\n",
    "#bestN.best_params_"
   ]
  },
  {
   "cell_type": "code",
   "execution_count": 34,
   "metadata": {},
   "outputs": [
    {
     "name": "stdout",
     "output_type": "stream",
     "text": [
      "Jaccard Score is: 0.18\n",
      "F1 Score is: 0.3\n",
      "Accuracy is: 0.99\n",
      "Precision is: 0.69\n",
      "Recall is: 0.19\n"
     ]
    }
   ],
   "source": [
    "LR = LogisticRegression(C=2.7825594022971245, max_iter=1000, penalty = 'l2', solver = 'liblinear')\n",
    "bestN = LR.fit(X_trainN, y_trainN)\n",
    "yLR_N = bestN.predict(X_testN)\n",
    "\n",
    "print('Jaccard Score is: {:.2}'.format(jaccard_score(y_testN, yLR_N)))\n",
    "print('F1 Score is: {:.2}'.format(f1_score(y_testN, yLR_N)))\n",
    "print('Accuracy is: {:.2}'.format(accuracy_score(y_testN, yLR_N)))\n",
    "print('Precision is: {:.2}'.format(precision_score(y_testN, yLR_N)))\n",
    "print('Recall is: {:.2}'.format(recall_score(y_testN, yLR_N)))"
   ]
  },
  {
   "cell_type": "markdown",
   "metadata": {},
   "source": [
    "We see from the above that our scores aren't too good. In fact they are quite bad, indicating that our dataset is not much of a good indicator of predicting Oscar nominations.\\\n",
    "Let's see if this holds for winners as well.\n",
    "\n",
    "We repeat the process of hyperparameter tuning and logistic regression, this time on the winners training set X_trainW."
   ]
  },
  {
   "cell_type": "code",
   "execution_count": 35,
   "metadata": {},
   "outputs": [],
   "source": [
    "# %%capture\n",
    "# LR1 = LogisticRegression()\n",
    "# gridsearch1 = GridSearchCV(LR1, hyperparameters, cv=4, verbose=0)\n",
    "# bestW = gridsearch1.fit(X_trainW, y_trainW)"
   ]
  },
  {
   "cell_type": "code",
   "execution_count": 36,
   "metadata": {},
   "outputs": [
    {
     "data": {
      "text/plain": [
       "{'C': 1.0, 'max_iter': 1000, 'penalty': 'l2', 'solver': 'liblinear'}"
      ]
     },
     "execution_count": 36,
     "metadata": {},
     "output_type": "execute_result"
    }
   ],
   "source": [
    "#bestW.best_params_"
   ]
  },
  {
   "cell_type": "code",
   "execution_count": 37,
   "metadata": {},
   "outputs": [
    {
     "name": "stdout",
     "output_type": "stream",
     "text": [
      "Jaccard Score is: 0.067\n",
      "F1 Score is: 0.12\n",
      "Accuracy is: 1.0\n",
      "Precision is: 1.0\n",
      "Recall is: 0.067\n"
     ]
    }
   ],
   "source": [
    "LR1 = LogisticRegression(C=1, max_iter=1000, penalty = 'l2', solver = 'liblinear')\n",
    "bestW = LR1.fit(X_trainW, y_trainW)\n",
    "yLR_W = bestW.predict(X_testW)\n",
    "\n",
    "print('Jaccard Score is: {:.2}'.format(jaccard_score(y_testW, yLR_W)))\n",
    "print('F1 Score is: {:.2}'.format(f1_score(y_testW, yLR_W)))\n",
    "print('Accuracy is: {:.2}'.format(accuracy_score(y_testW, yLR_W)))\n",
    "print('Precision is: {:.2}'.format(precision_score(y_testW, yLR_W)))\n",
    "print('Recall is: {:.2}'.format(recall_score(y_testW, yLR_W)))"
   ]
  },
  {
   "cell_type": "markdown",
   "metadata": {},
   "source": [
    "We see that performance is even worse for predicting winners. This makes intuitive sense since there are very few data points for winners, with nominations being about 5 times more.\\\n",
    "This would result in underfitting of the model and hence bad predictors of winners.\\\n",
    "Let's see for other types of algorithms."
   ]
  },
  {
   "cell_type": "markdown",
   "metadata": {},
   "source": [
    "### Decision Trees\n",
    "Let's try Decision Trees. We keep most of the parameters of decision trees fixed as we don't want to set max leaves or nodes so the algorithm runs to completion."
   ]
  },
  {
   "cell_type": "code",
   "execution_count": 38,
   "metadata": {},
   "outputs": [
    {
     "name": "stdout",
     "output_type": "stream",
     "text": [
      "Jaccard Score is: 0.2\n",
      "F1 Score is: 0.33\n",
      "Accuracy is: 0.99\n",
      "Precision is: 0.32\n",
      "Recall is: 0.35\n",
      "Jaccard Score is: 0.12\n",
      "F1 Score is: 0.21\n",
      "Accuracy is: 1.0\n",
      "Precision is: 0.17\n",
      "Recall is: 0.27\n"
     ]
    }
   ],
   "source": [
    "decisiontree = DecisionTreeClassifier(random_state=0, criterion='entropy')\n",
    "model_dtN = decisiontree.fit(X_trainN, y_trainN)\n",
    "ydt_N = model_dtN.predict(X_testN)\n",
    "\n",
    "print('Jaccard Score is: {:.2}'.format(jaccard_score(y_testN, ydt_N)))\n",
    "print('F1 Score is: {:.2}'.format(f1_score(y_testN, ydt_N)))\n",
    "print('Accuracy is: {:.2}'.format(accuracy_score(y_testN, ydt_N)))\n",
    "print('Precision is: {:.2}'.format(precision_score(y_testN, ydt_N)))\n",
    "print('Recall is: {:.2}'.format(recall_score(y_testN, ydt_N)))\n",
    "\n",
    "decisiontree1 = DecisionTreeClassifier(random_state=0, criterion='entropy')\n",
    "model_dtW = decisiontree1.fit(X_trainW, y_trainW)\n",
    "ydt_W = model_dtW.predict(X_testW)\n",
    "\n",
    "print('Jaccard Score is: {:.2}'.format(jaccard_score(y_testW, ydt_W)))\n",
    "print('F1 Score is: {:.2}'.format(f1_score(y_testW, ydt_W)))\n",
    "print('Accuracy is: {:.2}'.format(accuracy_score(y_testW, ydt_W)))\n",
    "print('Precision is: {:.2}'.format(precision_score(y_testW, ydt_W)))\n",
    "print('Recall is: {:.2}'.format(recall_score(y_testW, ydt_W)))"
   ]
  },
  {
   "cell_type": "markdown",
   "metadata": {},
   "source": [
    "We see the scores are slightly better, especially the winners model."
   ]
  },
  {
   "cell_type": "markdown",
   "metadata": {},
   "source": [
    "### Random Forests\n",
    "We expect similar performance as that of decision trees since a random forest uses multiple to arrive at a classification."
   ]
  },
  {
   "cell_type": "code",
   "execution_count": 39,
   "metadata": {},
   "outputs": [
    {
     "name": "stdout",
     "output_type": "stream",
     "text": [
      "Jaccard Score is: 0.17\n",
      "F1 Score is: 0.29\n",
      "Accuracy is: 0.99\n",
      "Precision is: 0.68\n",
      "Recall is: 0.18\n",
      "Jaccard Score is: 0.062\n",
      "F1 Score is: 0.12\n",
      "Accuracy is: 1.0\n",
      "Precision is: 0.5\n",
      "Recall is: 0.067\n"
     ]
    }
   ],
   "source": [
    "randomforest = RandomForestClassifier(criterion=\"entropy\")\n",
    "model_rfN = randomforest.fit(X_trainN, y_trainN)\n",
    "yrf_N = model_rfN.predict(X_testN)\n",
    "\n",
    "print('Jaccard Score is: {:.2}'.format(jaccard_score(y_testN, yrf_N)))\n",
    "print('F1 Score is: {:.2}'.format(f1_score(y_testN, yrf_N)))\n",
    "print('Accuracy is: {:.2}'.format(accuracy_score(y_testN, yrf_N)))\n",
    "print('Precision is: {:.2}'.format(precision_score(y_testN, yrf_N)))\n",
    "print('Recall is: {:.2}'.format(recall_score(y_testN, yrf_N)))\n",
    "\n",
    "randomforest1 = RandomForestClassifier(criterion=\"entropy\")\n",
    "model_rfW = randomforest1.fit(X_trainW, y_trainW)\n",
    "yrf_W = model_rfW.predict(X_testW)\n",
    "\n",
    "print('Jaccard Score is: {:.2}'.format(jaccard_score(y_testW, yrf_W)))\n",
    "print('F1 Score is: {:.2}'.format(f1_score(y_testW, yrf_W)))\n",
    "print('Accuracy is: {:.2}'.format(accuracy_score(y_testW, yrf_W)))\n",
    "print('Precision is: {:.2}'.format(precision_score(y_testW, yrf_W)))\n",
    "print('Recall is: {:.2}'.format(recall_score(y_testW, yrf_W)))"
   ]
  },
  {
   "cell_type": "markdown",
   "metadata": {},
   "source": [
    "As expected, we achieve similar results as that of the decision tree algorithm."
   ]
  },
  {
   "cell_type": "markdown",
   "metadata": {},
   "source": [
    "### K Nearest Neighbors\n",
    "We don't expect this algorithm to perform very well, mainly since the dataset is a bit large and that the movies aren't very split apart intuitively since only a fixed number of movies can be nominated/win each year.\n",
    "Nevertheless, we use gridsearch again to find the best N value and find the scores.\n",
    "I will comment this portion out since this grid search takes some time."
   ]
  },
  {
   "cell_type": "code",
   "execution_count": 40,
   "metadata": {},
   "outputs": [],
   "source": [
    "# knn = KNeighborsClassifier()\n",
    "# n_neighbors = np.arange(2,30)\n",
    "# hyperparameters = dict(n_neighbors=n_neighbors)\n",
    "# gridsearch_knn = GridSearchCV(knn, hyperparameters, cv=4, verbose=0)\n",
    "# model_knnN = gridsearch_knn.fit(X_trainN, y_trainN)"
   ]
  },
  {
   "cell_type": "code",
   "execution_count": 186,
   "metadata": {},
   "outputs": [
    {
     "data": {
      "text/plain": [
       "{'n_neighbors': 10}"
      ]
     },
     "execution_count": 186,
     "metadata": {},
     "output_type": "execute_result"
    }
   ],
   "source": [
    "#gridsearch_knn.best_params_"
   ]
  },
  {
   "cell_type": "code",
   "execution_count": 40,
   "metadata": {},
   "outputs": [
    {
     "name": "stdout",
     "output_type": "stream",
     "text": [
      "Jaccard Score is: 0.065\n",
      "F1 Score is: 0.12\n",
      "Accuracy is: 0.99\n",
      "Precision is: 0.47\n",
      "Recall is: 0.07\n"
     ]
    }
   ],
   "source": [
    "knn = KNeighborsClassifier(n_neighbors=10)\n",
    "model_knnN = knn.fit(X_trainN, y_trainN)\n",
    "yknn_N = model_knnN.predict(X_testN)\n",
    "\n",
    "print('Jaccard Score is: {:.2}'.format(jaccard_score(y_testN, yknn_N)))\n",
    "print('F1 Score is: {:.2}'.format(f1_score(y_testN, yknn_N)))\n",
    "print('Accuracy is: {:.2}'.format(accuracy_score(y_testN, yknn_N)))\n",
    "print('Precision is: {:.2}'.format(precision_score(y_testN, yknn_N)))\n",
    "print('Recall is: {:.2}'.format(recall_score(y_testN, yknn_N)))"
   ]
  },
  {
   "cell_type": "code",
   "execution_count": 41,
   "metadata": {},
   "outputs": [],
   "source": [
    "# knn1 = KNeighborsClassifier()\n",
    "# gridsearch_knnW = GridSearchCV(knn1, hyperparameters, cv=4, verbose=0)\n",
    "# model_knnW = gridsearch_knnW.fit(X_trainW, y_trainW)"
   ]
  },
  {
   "cell_type": "code",
   "execution_count": 187,
   "metadata": {},
   "outputs": [
    {
     "data": {
      "text/plain": [
       "{'n_neighbors': 8}"
      ]
     },
     "execution_count": 187,
     "metadata": {},
     "output_type": "execute_result"
    }
   ],
   "source": [
    "#gridsearch_knnW.best_params_"
   ]
  },
  {
   "cell_type": "code",
   "execution_count": 41,
   "metadata": {},
   "outputs": [
    {
     "name": "stdout",
     "output_type": "stream",
     "text": [
      "Jaccard Score is: 0.0\n",
      "F1 Score is: 0.0\n",
      "Accuracy is: 1.0\n",
      "Precision is: 0.0\n",
      "Recall is: 0.0\n"
     ]
    },
    {
     "name": "stderr",
     "output_type": "stream",
     "text": [
      "D:\\Programs\\Anaconda\\lib\\site-packages\\sklearn\\metrics\\_classification.py:1221: UndefinedMetricWarning: Precision is ill-defined and being set to 0.0 due to no predicted samples. Use `zero_division` parameter to control this behavior.\n",
      "  _warn_prf(average, modifier, msg_start, len(result))\n"
     ]
    }
   ],
   "source": [
    "knn1 = KNeighborsClassifier(n_neighbors=8)\n",
    "model_knnW = knn1.fit(X_trainW, y_trainW)\n",
    "yknn_W = model_knnW.predict(X_testW)\n",
    "\n",
    "print('Jaccard Score is: {:.2}'.format(jaccard_score(y_testW, yknn_W)))\n",
    "print('F1 Score is: {:.2}'.format(f1_score(y_testW, yknn_W)))\n",
    "print('Accuracy is: {:.2}'.format(accuracy_score(y_testW, yknn_W)))\n",
    "print('Precision is: {:.2}'.format(precision_score(y_testW, yknn_W)))\n",
    "print('Recall is: {:.2}'.format(recall_score(y_testW, yknn_W)))"
   ]
  },
  {
   "cell_type": "markdown",
   "metadata": {},
   "source": [
    "### Naive Bayes\n",
    "We don't expect this to be the best predictor either since Naive Bayes usually does not work well with larger datasets.\\\n",
    "We have to use the Gaussian version since we have both continous and categorical features in our data."
   ]
  },
  {
   "cell_type": "code",
   "execution_count": 42,
   "metadata": {},
   "outputs": [
    {
     "name": "stdout",
     "output_type": "stream",
     "text": [
      "Jaccard Score is: 0.0081\n",
      "F1 Score is: 0.016\n",
      "Accuracy is: 0.19\n",
      "Precision is: 0.0081\n",
      "Recall is: 0.97\n",
      "Jaccard Score is: 0.13\n",
      "F1 Score is: 0.23\n",
      "Accuracy is: 0.99\n",
      "Precision is: 0.13\n",
      "Recall is: 0.87\n"
     ]
    }
   ],
   "source": [
    "naive_bayes = GaussianNB()\n",
    "model_nbN = naive_bayes.fit(X_trainN, y_trainN)\n",
    "ynb_N = model_nbN.predict(X_testN)\n",
    "\n",
    "print('Jaccard Score is: {:.2}'.format(jaccard_score(y_testN, ynb_N)))\n",
    "print('F1 Score is: {:.2}'.format(f1_score(y_testN, ynb_N)))\n",
    "print('Accuracy is: {:.2}'.format(accuracy_score(y_testN, ynb_N)))\n",
    "print('Precision is: {:.2}'.format(precision_score(y_testN, ynb_N)))\n",
    "print('Recall is: {:.2}'.format(recall_score(y_testN, ynb_N)))\n",
    "\n",
    "naive_bayes1 = GaussianNB()\n",
    "model_nbW = naive_bayes1.fit(X_trainW, y_trainW)\n",
    "ynb_W = model_nbW.predict(X_testW)\n",
    "\n",
    "print('Jaccard Score is: {:.2}'.format(jaccard_score(y_testW, ynb_W)))\n",
    "print('F1 Score is: {:.2}'.format(f1_score(y_testW, ynb_W)))\n",
    "print('Accuracy is: {:.2}'.format(accuracy_score(y_testW, ynb_W)))\n",
    "print('Precision is: {:.2}'.format(precision_score(y_testW, ynb_W)))\n",
    "print('Recall is: {:.2}'.format(recall_score(y_testW, ynb_W)))"
   ]
  },
  {
   "cell_type": "markdown",
   "metadata": {},
   "source": [
    "Surprisingly, the winners predictor is on level with the performance of the other classification algorithms earlier."
   ]
  },
  {
   "cell_type": "markdown",
   "metadata": {},
   "source": [
    "### Summary of results\n",
    "Let's put all of the scores into a tables for comparison."
   ]
  },
  {
   "cell_type": "code",
   "execution_count": 43,
   "metadata": {},
   "outputs": [],
   "source": [
    "scores_nominated = pd.DataFrame({'Logisitic':[jaccard_score(y_testN, yLR_N),f1_score(y_testN, yLR_N),accuracy_score(y_testN, yLR_N),precision_score(y_testN, yLR_N),recall_score(y_testN, yLR_N)],\\\n",
    "                                'Decision Tree':[jaccard_score(y_testN, ydt_N),f1_score(y_testN, ydt_N),accuracy_score(y_testN, ydt_N),precision_score(y_testN, ydt_N),recall_score(y_testN, ydt_N)],\\\n",
    "                                'Random Forest':[jaccard_score(y_testN, yrf_N),f1_score(y_testN, yrf_N),accuracy_score(y_testN, yrf_N),precision_score(y_testN, yrf_N),recall_score(y_testN, yrf_N)],\\\n",
    "                                'KNN':[jaccard_score(y_testN, yknn_N),f1_score(y_testN, yknn_N),accuracy_score(y_testN, yknn_N),precision_score(y_testN, yknn_N),recall_score(y_testN, yknn_N)],\\\n",
    "                                'Naive Bayes':[jaccard_score(y_testN, ynb_N),f1_score(y_testN, ynb_N),accuracy_score(y_testN, ynb_N),precision_score(y_testN, ynb_N),recall_score(y_testN, ynb_N)]},\n",
    "                                index=['Jaccard','F1','Accuracy','Precision','Recall'])"
   ]
  },
  {
   "cell_type": "code",
   "execution_count": 44,
   "metadata": {},
   "outputs": [
    {
     "data": {
      "text/html": [
       "<div>\n",
       "<style scoped>\n",
       "    .dataframe tbody tr th:only-of-type {\n",
       "        vertical-align: middle;\n",
       "    }\n",
       "\n",
       "    .dataframe tbody tr th {\n",
       "        vertical-align: top;\n",
       "    }\n",
       "\n",
       "    .dataframe thead th {\n",
       "        text-align: right;\n",
       "    }\n",
       "</style>\n",
       "<table border=\"1\" class=\"dataframe\">\n",
       "  <thead>\n",
       "    <tr style=\"text-align: right;\">\n",
       "      <th></th>\n",
       "      <th>Logisitic</th>\n",
       "      <th>Decision Tree</th>\n",
       "      <th>Random Forest</th>\n",
       "      <th>KNN</th>\n",
       "      <th>Naive Bayes</th>\n",
       "    </tr>\n",
       "  </thead>\n",
       "  <tbody>\n",
       "    <tr>\n",
       "      <th>Jaccard</th>\n",
       "      <td>0.176</td>\n",
       "      <td>0.199</td>\n",
       "      <td>0.168</td>\n",
       "      <td>0.065</td>\n",
       "      <td>0.008</td>\n",
       "    </tr>\n",
       "    <tr>\n",
       "      <th>F1</th>\n",
       "      <td>0.299</td>\n",
       "      <td>0.332</td>\n",
       "      <td>0.288</td>\n",
       "      <td>0.121</td>\n",
       "      <td>0.016</td>\n",
       "    </tr>\n",
       "    <tr>\n",
       "      <th>Accuracy</th>\n",
       "      <td>0.994</td>\n",
       "      <td>0.990</td>\n",
       "      <td>0.994</td>\n",
       "      <td>0.993</td>\n",
       "      <td>0.188</td>\n",
       "    </tr>\n",
       "    <tr>\n",
       "      <th>Precision</th>\n",
       "      <td>0.688</td>\n",
       "      <td>0.317</td>\n",
       "      <td>0.677</td>\n",
       "      <td>0.471</td>\n",
       "      <td>0.008</td>\n",
       "    </tr>\n",
       "    <tr>\n",
       "      <th>Recall</th>\n",
       "      <td>0.191</td>\n",
       "      <td>0.348</td>\n",
       "      <td>0.183</td>\n",
       "      <td>0.070</td>\n",
       "      <td>0.974</td>\n",
       "    </tr>\n",
       "  </tbody>\n",
       "</table>\n",
       "</div>"
      ],
      "text/plain": [
       "           Logisitic  Decision Tree  Random Forest    KNN  Naive Bayes\n",
       "Jaccard        0.176          0.199          0.168  0.065        0.008\n",
       "F1             0.299          0.332          0.288  0.121        0.016\n",
       "Accuracy       0.994          0.990          0.994  0.993        0.188\n",
       "Precision      0.688          0.317          0.677  0.471        0.008\n",
       "Recall         0.191          0.348          0.183  0.070        0.974"
      ]
     },
     "execution_count": 44,
     "metadata": {},
     "output_type": "execute_result"
    }
   ],
   "source": [
    "scores_nominated.round(3)"
   ]
  },
  {
   "cell_type": "code",
   "execution_count": 45,
   "metadata": {},
   "outputs": [
    {
     "name": "stderr",
     "output_type": "stream",
     "text": [
      "D:\\Programs\\Anaconda\\lib\\site-packages\\sklearn\\metrics\\_classification.py:1221: UndefinedMetricWarning: Precision is ill-defined and being set to 0.0 due to no predicted samples. Use `zero_division` parameter to control this behavior.\n",
      "  _warn_prf(average, modifier, msg_start, len(result))\n"
     ]
    }
   ],
   "source": [
    "scores_winner = pd.DataFrame({'Logisitic':[jaccard_score(y_testW, yLR_W),f1_score(y_testW, yLR_W),accuracy_score(y_testW, yLR_W),precision_score(y_testW, yLR_W),recall_score(y_testW, yLR_W)],\\\n",
    "                                'Decision Tree':[jaccard_score(y_testW, ydt_W),f1_score(y_testW, ydt_W),accuracy_score(y_testW, ydt_W),precision_score(y_testW, ydt_W),recall_score(y_testW, ydt_W)],\\\n",
    "                                'Random Forest':[jaccard_score(y_testW, yrf_W),f1_score(y_testW, yrf_W),accuracy_score(y_testW, yrf_W),precision_score(y_testW, yrf_W),recall_score(y_testW, yrf_W)],\\\n",
    "                                'KNN':[jaccard_score(y_testW, yknn_W),f1_score(y_testW, yknn_W),accuracy_score(y_testW, yknn_W),precision_score(y_testW, yknn_W),recall_score(y_testW, yknn_W)],\\\n",
    "                                'Naive Bayes':[jaccard_score(y_testW, ynb_W),f1_score(y_testW, ynb_W),accuracy_score(y_testW, ynb_W),precision_score(y_testW, ynb_W),recall_score(y_testW, ynb_W)]},\n",
    "                                index=['Jaccard','F1','Accuracy','Precision','Recall'])"
   ]
  },
  {
   "cell_type": "code",
   "execution_count": 46,
   "metadata": {},
   "outputs": [
    {
     "data": {
      "text/html": [
       "<div>\n",
       "<style scoped>\n",
       "    .dataframe tbody tr th:only-of-type {\n",
       "        vertical-align: middle;\n",
       "    }\n",
       "\n",
       "    .dataframe tbody tr th {\n",
       "        vertical-align: top;\n",
       "    }\n",
       "\n",
       "    .dataframe thead th {\n",
       "        text-align: right;\n",
       "    }\n",
       "</style>\n",
       "<table border=\"1\" class=\"dataframe\">\n",
       "  <thead>\n",
       "    <tr style=\"text-align: right;\">\n",
       "      <th></th>\n",
       "      <th>Logisitic</th>\n",
       "      <th>Decision Tree</th>\n",
       "      <th>Random Forest</th>\n",
       "      <th>KNN</th>\n",
       "      <th>Naive Bayes</th>\n",
       "    </tr>\n",
       "  </thead>\n",
       "  <tbody>\n",
       "    <tr>\n",
       "      <th>Jaccard</th>\n",
       "      <td>0.067</td>\n",
       "      <td>0.118</td>\n",
       "      <td>0.062</td>\n",
       "      <td>0.000</td>\n",
       "      <td>0.130</td>\n",
       "    </tr>\n",
       "    <tr>\n",
       "      <th>F1</th>\n",
       "      <td>0.125</td>\n",
       "      <td>0.211</td>\n",
       "      <td>0.118</td>\n",
       "      <td>0.000</td>\n",
       "      <td>0.230</td>\n",
       "    </tr>\n",
       "    <tr>\n",
       "      <th>Accuracy</th>\n",
       "      <td>0.999</td>\n",
       "      <td>0.998</td>\n",
       "      <td>0.999</td>\n",
       "      <td>0.999</td>\n",
       "      <td>0.995</td>\n",
       "    </tr>\n",
       "    <tr>\n",
       "      <th>Precision</th>\n",
       "      <td>1.000</td>\n",
       "      <td>0.174</td>\n",
       "      <td>0.500</td>\n",
       "      <td>0.000</td>\n",
       "      <td>0.133</td>\n",
       "    </tr>\n",
       "    <tr>\n",
       "      <th>Recall</th>\n",
       "      <td>0.067</td>\n",
       "      <td>0.267</td>\n",
       "      <td>0.067</td>\n",
       "      <td>0.000</td>\n",
       "      <td>0.867</td>\n",
       "    </tr>\n",
       "  </tbody>\n",
       "</table>\n",
       "</div>"
      ],
      "text/plain": [
       "           Logisitic  Decision Tree  Random Forest    KNN  Naive Bayes\n",
       "Jaccard        0.067          0.118          0.062  0.000        0.130\n",
       "F1             0.125          0.211          0.118  0.000        0.230\n",
       "Accuracy       0.999          0.998          0.999  0.999        0.995\n",
       "Precision      1.000          0.174          0.500  0.000        0.133\n",
       "Recall         0.067          0.267          0.067  0.000        0.867"
      ]
     },
     "execution_count": 46,
     "metadata": {},
     "output_type": "execute_result"
    }
   ],
   "source": [
    "scores_winner.round(3)"
   ]
  },
  {
   "cell_type": "markdown",
   "metadata": {},
   "source": [
    "We conclude that for nominations, we can use Logistic Regression, Decision Tree and Random Forest algorithms for nominations, with Decision Trees having slightly better performance than the rest.\\\n",
    "However, since Decision Trees don't give exact probabilities by nature of the algorithm, Random Forest or Logisitic Regression seem like the best choice.\n",
    "\n",
    "For winners, we see that Decision Trees, Random Forest and Naive Bayes algorithms work best, with Random Forest having the highest precision.\\\n",
    "Now we can try to predict the nominations and winners for 2020 using these models."
   ]
  },
  {
   "cell_type": "markdown",
   "metadata": {},
   "source": [
    "## Predicting Nominations and Winner of 2020\n",
    "First, we have to format the 2020 data to use the same features as the training sets of the models."
   ]
  },
  {
   "cell_type": "code",
   "execution_count": 47,
   "metadata": {},
   "outputs": [],
   "source": [
    "df_2020 = df[(df['year'] == 2020)].drop(['original_title','year','genre','language','country','metascore','winner','nominated'], axis=1)\n",
    "df_2020[['avg_vote','duration','votes']] = StandardScaler().fit(df_2020[['avg_vote','duration','votes']]).transform(df_2020[['avg_vote','duration','votes']])"
   ]
  },
  {
   "cell_type": "markdown",
   "metadata": {},
   "source": [
    "### Nominations\n",
    "We go through each of our nomination classifiers and see which movies appear in the top 20 of each. Note that for Decision Tree, the probabilities are only 1 or 0, which is the nature of the algorithm.\n",
    "\n",
    "#### Logistic Regression"
   ]
  },
  {
   "cell_type": "code",
   "execution_count": 60,
   "metadata": {},
   "outputs": [
    {
     "data": {
      "text/html": [
       "<div>\n",
       "<style scoped>\n",
       "    .dataframe tbody tr th:only-of-type {\n",
       "        vertical-align: middle;\n",
       "    }\n",
       "\n",
       "    .dataframe tbody tr th {\n",
       "        vertical-align: top;\n",
       "    }\n",
       "\n",
       "    .dataframe thead th {\n",
       "        text-align: right;\n",
       "    }\n",
       "</style>\n",
       "<table border=\"1\" class=\"dataframe\">\n",
       "  <thead>\n",
       "    <tr style=\"text-align: right;\">\n",
       "      <th></th>\n",
       "      <th>original_title</th>\n",
       "      <th>Prob of Nominated</th>\n",
       "    </tr>\n",
       "  </thead>\n",
       "  <tbody>\n",
       "    <tr>\n",
       "      <th>0</th>\n",
       "      <td>Hamilton</td>\n",
       "      <td>0.904060</td>\n",
       "    </tr>\n",
       "    <tr>\n",
       "      <th>1</th>\n",
       "      <td>Canaan Land</td>\n",
       "      <td>0.734972</td>\n",
       "    </tr>\n",
       "    <tr>\n",
       "      <th>2</th>\n",
       "      <td>I Flip You Off for Four Hours</td>\n",
       "      <td>0.506448</td>\n",
       "    </tr>\n",
       "    <tr>\n",
       "      <th>3</th>\n",
       "      <td>The Trial of the Chicago 7</td>\n",
       "      <td>0.444455</td>\n",
       "    </tr>\n",
       "    <tr>\n",
       "      <th>4</th>\n",
       "      <td>A House Divided... A Mega Maga Movie</td>\n",
       "      <td>0.246276</td>\n",
       "    </tr>\n",
       "    <tr>\n",
       "      <th>5</th>\n",
       "      <td>The Moving on Phase</td>\n",
       "      <td>0.222158</td>\n",
       "    </tr>\n",
       "    <tr>\n",
       "      <th>6</th>\n",
       "      <td>Interview with the Antichrist</td>\n",
       "      <td>0.163426</td>\n",
       "    </tr>\n",
       "    <tr>\n",
       "      <th>7</th>\n",
       "      <td>Chronicle of a Serial Killer</td>\n",
       "      <td>0.162498</td>\n",
       "    </tr>\n",
       "    <tr>\n",
       "      <th>8</th>\n",
       "      <td>Talita</td>\n",
       "      <td>0.154780</td>\n",
       "    </tr>\n",
       "    <tr>\n",
       "      <th>9</th>\n",
       "      <td>The Banker</td>\n",
       "      <td>0.143957</td>\n",
       "    </tr>\n",
       "  </tbody>\n",
       "</table>\n",
       "</div>"
      ],
      "text/plain": [
       "                         original_title  Prob of Nominated\n",
       "0                              Hamilton           0.904060\n",
       "1                           Canaan Land           0.734972\n",
       "2         I Flip You Off for Four Hours           0.506448\n",
       "3            The Trial of the Chicago 7           0.444455\n",
       "4  A House Divided... A Mega Maga Movie           0.246276\n",
       "5                   The Moving on Phase           0.222158\n",
       "6         Interview with the Antichrist           0.163426\n",
       "7          Chronicle of a Serial Killer           0.162498\n",
       "8                                Talita           0.154780\n",
       "9                            The Banker           0.143957"
      ]
     },
     "execution_count": 60,
     "metadata": {},
     "output_type": "execute_result"
    }
   ],
   "source": [
    "LR_2020 = bestN.predict_proba(df_2020)\n",
    "df_2020_noms_LR = df[df['year'] == 2020][['original_title']]\n",
    "df_2020_noms_LR['Prob of Nominated'] = pd.Series(LR_2020[:,1],index=df_2020_noms_LR.index)\n",
    "sorted_Nom_LR = df_2020_noms_LR.sort_values(by='Prob of Nominated',ascending=False)\n",
    "sorted_Nom_LR.reset_index().drop('index',axis=1).head(10)"
   ]
  },
  {
   "cell_type": "markdown",
   "metadata": {},
   "source": [
    "#### Decision Tree"
   ]
  },
  {
   "cell_type": "code",
   "execution_count": 61,
   "metadata": {},
   "outputs": [
    {
     "data": {
      "text/html": [
       "<div>\n",
       "<style scoped>\n",
       "    .dataframe tbody tr th:only-of-type {\n",
       "        vertical-align: middle;\n",
       "    }\n",
       "\n",
       "    .dataframe tbody tr th {\n",
       "        vertical-align: top;\n",
       "    }\n",
       "\n",
       "    .dataframe thead th {\n",
       "        text-align: right;\n",
       "    }\n",
       "</style>\n",
       "<table border=\"1\" class=\"dataframe\">\n",
       "  <thead>\n",
       "    <tr style=\"text-align: right;\">\n",
       "      <th></th>\n",
       "      <th>original_title</th>\n",
       "      <th>Prob of Nominated</th>\n",
       "    </tr>\n",
       "  </thead>\n",
       "  <tbody>\n",
       "    <tr>\n",
       "      <th>0</th>\n",
       "      <td>The Trial of the Chicago 7</td>\n",
       "      <td>1.0</td>\n",
       "    </tr>\n",
       "    <tr>\n",
       "      <th>1</th>\n",
       "      <td>Clouds</td>\n",
       "      <td>1.0</td>\n",
       "    </tr>\n",
       "    <tr>\n",
       "      <th>2</th>\n",
       "      <td>The Devil All the Time</td>\n",
       "      <td>1.0</td>\n",
       "    </tr>\n",
       "    <tr>\n",
       "      <th>3</th>\n",
       "      <td>The Invisible Man</td>\n",
       "      <td>1.0</td>\n",
       "    </tr>\n",
       "    <tr>\n",
       "      <th>4</th>\n",
       "      <td>Hamilton</td>\n",
       "      <td>1.0</td>\n",
       "    </tr>\n",
       "    <tr>\n",
       "      <th>5</th>\n",
       "      <td>The Party Planner</td>\n",
       "      <td>0.0</td>\n",
       "    </tr>\n",
       "    <tr>\n",
       "      <th>6</th>\n",
       "      <td>A Little Red Flower</td>\n",
       "      <td>0.0</td>\n",
       "    </tr>\n",
       "    <tr>\n",
       "      <th>7</th>\n",
       "      <td>Kill Mode</td>\n",
       "      <td>0.0</td>\n",
       "    </tr>\n",
       "    <tr>\n",
       "      <th>8</th>\n",
       "      <td>Maska</td>\n",
       "      <td>0.0</td>\n",
       "    </tr>\n",
       "    <tr>\n",
       "      <th>9</th>\n",
       "      <td>The One You Feed</td>\n",
       "      <td>0.0</td>\n",
       "    </tr>\n",
       "  </tbody>\n",
       "</table>\n",
       "</div>"
      ],
      "text/plain": [
       "               original_title  Prob of Nominated\n",
       "0  The Trial of the Chicago 7                1.0\n",
       "1                      Clouds                1.0\n",
       "2      The Devil All the Time                1.0\n",
       "3           The Invisible Man                1.0\n",
       "4                    Hamilton                1.0\n",
       "5           The Party Planner                0.0\n",
       "6         A Little Red Flower                0.0\n",
       "7                   Kill Mode                0.0\n",
       "8                       Maska                0.0\n",
       "9            The One You Feed                0.0"
      ]
     },
     "execution_count": 61,
     "metadata": {},
     "output_type": "execute_result"
    }
   ],
   "source": [
    "DT_2020 = model_dtN.predict_proba(df_2020)\n",
    "df_2020_noms_DT = df[df['year'] == 2020][['original_title']]\n",
    "df_2020_noms_DT['Prob of Nominated'] = pd.Series(DT_2020[:,1],index=df_2020_noms_DT.index)\n",
    "sorted_Nom_DT = df_2020_noms_DT.sort_values(by='Prob of Nominated',ascending=False)\n",
    "sorted_Nom_DT.reset_index().drop('index',axis=1).head(10)"
   ]
  },
  {
   "cell_type": "markdown",
   "metadata": {},
   "source": [
    "#### Random Forest"
   ]
  },
  {
   "cell_type": "code",
   "execution_count": 66,
   "metadata": {},
   "outputs": [
    {
     "data": {
      "text/html": [
       "<div>\n",
       "<style scoped>\n",
       "    .dataframe tbody tr th:only-of-type {\n",
       "        vertical-align: middle;\n",
       "    }\n",
       "\n",
       "    .dataframe tbody tr th {\n",
       "        vertical-align: top;\n",
       "    }\n",
       "\n",
       "    .dataframe thead th {\n",
       "        text-align: right;\n",
       "    }\n",
       "</style>\n",
       "<table border=\"1\" class=\"dataframe\">\n",
       "  <thead>\n",
       "    <tr style=\"text-align: right;\">\n",
       "      <th></th>\n",
       "      <th>original_title</th>\n",
       "      <th>Prob of Nominated</th>\n",
       "    </tr>\n",
       "  </thead>\n",
       "  <tbody>\n",
       "    <tr>\n",
       "      <th>0</th>\n",
       "      <td>The Trial of the Chicago 7</td>\n",
       "      <td>0.62</td>\n",
       "    </tr>\n",
       "    <tr>\n",
       "      <th>1</th>\n",
       "      <td>Hamilton</td>\n",
       "      <td>0.60</td>\n",
       "    </tr>\n",
       "    <tr>\n",
       "      <th>2</th>\n",
       "      <td>Minari</td>\n",
       "      <td>0.35</td>\n",
       "    </tr>\n",
       "    <tr>\n",
       "      <th>3</th>\n",
       "      <td>Never Rarely Sometimes Always</td>\n",
       "      <td>0.26</td>\n",
       "    </tr>\n",
       "    <tr>\n",
       "      <th>4</th>\n",
       "      <td>Nomadland</td>\n",
       "      <td>0.19</td>\n",
       "    </tr>\n",
       "    <tr>\n",
       "      <th>5</th>\n",
       "      <td>Interreflections</td>\n",
       "      <td>0.19</td>\n",
       "    </tr>\n",
       "    <tr>\n",
       "      <th>6</th>\n",
       "      <td>The Half of It</td>\n",
       "      <td>0.17</td>\n",
       "    </tr>\n",
       "    <tr>\n",
       "      <th>7</th>\n",
       "      <td>Emma.</td>\n",
       "      <td>0.16</td>\n",
       "    </tr>\n",
       "    <tr>\n",
       "      <th>8</th>\n",
       "      <td>The King of Staten Island</td>\n",
       "      <td>0.16</td>\n",
       "    </tr>\n",
       "    <tr>\n",
       "      <th>9</th>\n",
       "      <td>Chemical Hearts</td>\n",
       "      <td>0.16</td>\n",
       "    </tr>\n",
       "  </tbody>\n",
       "</table>\n",
       "</div>"
      ],
      "text/plain": [
       "                  original_title  Prob of Nominated\n",
       "0     The Trial of the Chicago 7               0.62\n",
       "1                       Hamilton               0.60\n",
       "2                         Minari               0.35\n",
       "3  Never Rarely Sometimes Always               0.26\n",
       "4                      Nomadland               0.19\n",
       "5               Interreflections               0.19\n",
       "6                 The Half of It               0.17\n",
       "7                          Emma.               0.16\n",
       "8      The King of Staten Island               0.16\n",
       "9                Chemical Hearts               0.16"
      ]
     },
     "execution_count": 66,
     "metadata": {},
     "output_type": "execute_result"
    }
   ],
   "source": [
    "RF_2020 = model_rfN.predict_proba(df_2020)\n",
    "df_2020_noms_RF = df[df['year'] == 2020][['original_title']]\n",
    "df_2020_noms_RF['Prob of Nominated'] = pd.Series(RF_2020[:,1],index=df_2020_noms_RF.index)\n",
    "sorted_Nom_RF = df_2020_noms_RF.sort_values(by='Prob of Nominated',ascending=False)\n",
    "sorted_Nom_RF.reset_index().drop('index',axis=1).head(10)"
   ]
  },
  {
   "cell_type": "markdown",
   "metadata": {},
   "source": [
    "#### K-Nearest Neighbors"
   ]
  },
  {
   "cell_type": "code",
   "execution_count": 64,
   "metadata": {},
   "outputs": [
    {
     "data": {
      "text/html": [
       "<div>\n",
       "<style scoped>\n",
       "    .dataframe tbody tr th:only-of-type {\n",
       "        vertical-align: middle;\n",
       "    }\n",
       "\n",
       "    .dataframe tbody tr th {\n",
       "        vertical-align: top;\n",
       "    }\n",
       "\n",
       "    .dataframe thead th {\n",
       "        text-align: right;\n",
       "    }\n",
       "</style>\n",
       "<table border=\"1\" class=\"dataframe\">\n",
       "  <thead>\n",
       "    <tr style=\"text-align: right;\">\n",
       "      <th></th>\n",
       "      <th>original_title</th>\n",
       "      <th>Prob of Nominated</th>\n",
       "    </tr>\n",
       "  </thead>\n",
       "  <tbody>\n",
       "    <tr>\n",
       "      <th>0</th>\n",
       "      <td>Hamilton</td>\n",
       "      <td>0.5</td>\n",
       "    </tr>\n",
       "    <tr>\n",
       "      <th>1</th>\n",
       "      <td>The Invisible Man</td>\n",
       "      <td>0.4</td>\n",
       "    </tr>\n",
       "    <tr>\n",
       "      <th>2</th>\n",
       "      <td>Dara of Jasenovac</td>\n",
       "      <td>0.4</td>\n",
       "    </tr>\n",
       "    <tr>\n",
       "      <th>3</th>\n",
       "      <td>Da 5 Bloods</td>\n",
       "      <td>0.3</td>\n",
       "    </tr>\n",
       "    <tr>\n",
       "      <th>4</th>\n",
       "      <td>Rebecca</td>\n",
       "      <td>0.3</td>\n",
       "    </tr>\n",
       "    <tr>\n",
       "      <th>5</th>\n",
       "      <td>Interreflections</td>\n",
       "      <td>0.3</td>\n",
       "    </tr>\n",
       "    <tr>\n",
       "      <th>6</th>\n",
       "      <td>Last Call</td>\n",
       "      <td>0.3</td>\n",
       "    </tr>\n",
       "    <tr>\n",
       "      <th>7</th>\n",
       "      <td>The Trial of the Chicago 7</td>\n",
       "      <td>0.2</td>\n",
       "    </tr>\n",
       "    <tr>\n",
       "      <th>8</th>\n",
       "      <td>Greyhound</td>\n",
       "      <td>0.2</td>\n",
       "    </tr>\n",
       "    <tr>\n",
       "      <th>9</th>\n",
       "      <td>Another Round</td>\n",
       "      <td>0.2</td>\n",
       "    </tr>\n",
       "  </tbody>\n",
       "</table>\n",
       "</div>"
      ],
      "text/plain": [
       "               original_title  Prob of Nominated\n",
       "0                    Hamilton                0.5\n",
       "1           The Invisible Man                0.4\n",
       "2           Dara of Jasenovac                0.4\n",
       "3                 Da 5 Bloods                0.3\n",
       "4                     Rebecca                0.3\n",
       "5            Interreflections                0.3\n",
       "6                   Last Call                0.3\n",
       "7  The Trial of the Chicago 7                0.2\n",
       "8                   Greyhound                0.2\n",
       "9               Another Round                0.2"
      ]
     },
     "execution_count": 64,
     "metadata": {},
     "output_type": "execute_result"
    }
   ],
   "source": [
    "knn_2020 = model_knnN.predict_proba(df_2020)\n",
    "df_2020_noms_knn = df[df['year'] == 2020][['original_title']]\n",
    "df_2020_noms_knn['Prob of Nominated'] = pd.Series(knn_2020[:,1],index=df_2020_noms_knn.index)\n",
    "sorted_Nom_knn = df_2020_noms_knn.sort_values(by='Prob of Nominated',ascending=False)\n",
    "sorted_Nom_knn.reset_index().drop('index',axis=1).head(10)"
   ]
  },
  {
   "cell_type": "markdown",
   "metadata": {},
   "source": [
    "#### Naive Bayes\n",
    "We note that the results are a bit skewed for this algorithm, which was shown given the scores from before. Hence, it is best that we discard this classifier for nominations."
   ]
  },
  {
   "cell_type": "code",
   "execution_count": 65,
   "metadata": {},
   "outputs": [
    {
     "data": {
      "text/html": [
       "<div>\n",
       "<style scoped>\n",
       "    .dataframe tbody tr th:only-of-type {\n",
       "        vertical-align: middle;\n",
       "    }\n",
       "\n",
       "    .dataframe tbody tr th {\n",
       "        vertical-align: top;\n",
       "    }\n",
       "\n",
       "    .dataframe thead th {\n",
       "        text-align: right;\n",
       "    }\n",
       "</style>\n",
       "<table border=\"1\" class=\"dataframe\">\n",
       "  <thead>\n",
       "    <tr style=\"text-align: right;\">\n",
       "      <th></th>\n",
       "      <th>original_title</th>\n",
       "      <th>Prob of Nominated</th>\n",
       "    </tr>\n",
       "  </thead>\n",
       "  <tbody>\n",
       "    <tr>\n",
       "      <th>0</th>\n",
       "      <td>The Party Planner</td>\n",
       "      <td>1.0</td>\n",
       "    </tr>\n",
       "    <tr>\n",
       "      <th>1</th>\n",
       "      <td>The Source of Shadows</td>\n",
       "      <td>1.0</td>\n",
       "    </tr>\n",
       "    <tr>\n",
       "      <th>2</th>\n",
       "      <td>Secret Zoo</td>\n",
       "      <td>1.0</td>\n",
       "    </tr>\n",
       "    <tr>\n",
       "      <th>3</th>\n",
       "      <td>Non odiare</td>\n",
       "      <td>1.0</td>\n",
       "    </tr>\n",
       "    <tr>\n",
       "      <th>4</th>\n",
       "      <td>Disclosure</td>\n",
       "      <td>1.0</td>\n",
       "    </tr>\n",
       "    <tr>\n",
       "      <th>5</th>\n",
       "      <td>La mia banda suona il pop</td>\n",
       "      <td>1.0</td>\n",
       "    </tr>\n",
       "    <tr>\n",
       "      <th>6</th>\n",
       "      <td>Chocolate Covered Christmas</td>\n",
       "      <td>1.0</td>\n",
       "    </tr>\n",
       "    <tr>\n",
       "      <th>7</th>\n",
       "      <td>Sab Kushal Mangal</td>\n",
       "      <td>1.0</td>\n",
       "    </tr>\n",
       "    <tr>\n",
       "      <th>8</th>\n",
       "      <td>Active Shooter</td>\n",
       "      <td>1.0</td>\n",
       "    </tr>\n",
       "    <tr>\n",
       "      <th>9</th>\n",
       "      <td>Seriously Single</td>\n",
       "      <td>1.0</td>\n",
       "    </tr>\n",
       "  </tbody>\n",
       "</table>\n",
       "</div>"
      ],
      "text/plain": [
       "                original_title  Prob of Nominated\n",
       "0            The Party Planner                1.0\n",
       "1        The Source of Shadows                1.0\n",
       "2                   Secret Zoo                1.0\n",
       "3                   Non odiare                1.0\n",
       "4                   Disclosure                1.0\n",
       "5    La mia banda suona il pop                1.0\n",
       "6  Chocolate Covered Christmas                1.0\n",
       "7            Sab Kushal Mangal                1.0\n",
       "8               Active Shooter                1.0\n",
       "9             Seriously Single                1.0"
      ]
     },
     "execution_count": 65,
     "metadata": {},
     "output_type": "execute_result"
    }
   ],
   "source": [
    "NB_2020 = model_nbN.predict_proba(df_2020)\n",
    "df_2020_noms_NB = df[df['year'] == 2020][['original_title']]\n",
    "df_2020_noms_NB['Prob of Nominated'] = pd.Series(NB_2020[:,1],index=df_2020_noms_NB.index)\n",
    "sorted_Nom_NB = df_2020_noms_NB.sort_values(by='Prob of Nominated',ascending=False)\n",
    "sorted_Nom_NB.reset_index().drop('index',axis=1).head(10)"
   ]
  },
  {
   "cell_type": "markdown",
   "metadata": {},
   "source": [
    "We can now average all the probability values of each of the classifiers to see the average result among all the classifiers. I will use the Jaccard scores as the weights of these averages."
   ]
  },
  {
   "cell_type": "code",
   "execution_count": 137,
   "metadata": {},
   "outputs": [],
   "source": [
    "df_2020_noms = df[df['year'] == 2020][['original_title']]"
   ]
  },
  {
   "cell_type": "code",
   "execution_count": 144,
   "metadata": {},
   "outputs": [],
   "source": [
    "df_2020_noms['LR Prob'] = df_2020_noms_LR['Prob of Nominated'] * jaccard_score(y_testN, yLR_N)\n",
    "df_2020_noms['DT Prob'] = df_2020_noms_DT['Prob of Nominated'] * jaccard_score(y_testN, ydt_N)\n",
    "df_2020_noms['RF Prob'] = df_2020_noms_RF['Prob of Nominated'] * jaccard_score(y_testN, yrf_N)\n",
    "df_2020_noms['KNN Prob'] = df_2020_noms_knn['Prob of Nominated'] * jaccard_score(y_testN, yknn_N)\n",
    "df_2020_noms['Total'] = (df_2020_noms['LR Prob'] + df_2020_noms['DT Prob'] + df_2020_noms['RF Prob'] + df_2020_noms['KNN Prob']) / 4"
   ]
  },
  {
   "cell_type": "code",
   "execution_count": 145,
   "metadata": {},
   "outputs": [
    {
     "data": {
      "text/html": [
       "<div>\n",
       "<style scoped>\n",
       "    .dataframe tbody tr th:only-of-type {\n",
       "        vertical-align: middle;\n",
       "    }\n",
       "\n",
       "    .dataframe tbody tr th {\n",
       "        vertical-align: top;\n",
       "    }\n",
       "\n",
       "    .dataframe thead th {\n",
       "        text-align: right;\n",
       "    }\n",
       "</style>\n",
       "<table border=\"1\" class=\"dataframe\">\n",
       "  <thead>\n",
       "    <tr style=\"text-align: right;\">\n",
       "      <th></th>\n",
       "      <th>original_title</th>\n",
       "      <th>Total</th>\n",
       "    </tr>\n",
       "  </thead>\n",
       "  <tbody>\n",
       "    <tr>\n",
       "      <th>0</th>\n",
       "      <td>Hamilton</td>\n",
       "      <td>0.122794</td>\n",
       "    </tr>\n",
       "    <tr>\n",
       "      <th>1</th>\n",
       "      <td>The Trial of the Chicago 7</td>\n",
       "      <td>0.098573</td>\n",
       "    </tr>\n",
       "    <tr>\n",
       "      <th>2</th>\n",
       "      <td>Clouds</td>\n",
       "      <td>0.059960</td>\n",
       "    </tr>\n",
       "    <tr>\n",
       "      <th>3</th>\n",
       "      <td>The Devil All the Time</td>\n",
       "      <td>0.058664</td>\n",
       "    </tr>\n",
       "    <tr>\n",
       "      <th>4</th>\n",
       "      <td>The Invisible Man</td>\n",
       "      <td>0.057937</td>\n",
       "    </tr>\n",
       "    <tr>\n",
       "      <th>5</th>\n",
       "      <td>Canaan Land</td>\n",
       "      <td>0.033179</td>\n",
       "    </tr>\n",
       "    <tr>\n",
       "      <th>6</th>\n",
       "      <td>I Flip You Off for Four Hours</td>\n",
       "      <td>0.025644</td>\n",
       "    </tr>\n",
       "    <tr>\n",
       "      <th>7</th>\n",
       "      <td>Minari</td>\n",
       "      <td>0.022854</td>\n",
       "    </tr>\n",
       "    <tr>\n",
       "      <th>8</th>\n",
       "      <td>Never Rarely Sometimes Always</td>\n",
       "      <td>0.016725</td>\n",
       "    </tr>\n",
       "    <tr>\n",
       "      <th>9</th>\n",
       "      <td>Nomadland</td>\n",
       "      <td>0.015459</td>\n",
       "    </tr>\n",
       "    <tr>\n",
       "      <th>10</th>\n",
       "      <td>Interreflections</td>\n",
       "      <td>0.013393</td>\n",
       "    </tr>\n",
       "    <tr>\n",
       "      <th>11</th>\n",
       "      <td>Da 5 Bloods</td>\n",
       "      <td>0.012103</td>\n",
       "    </tr>\n",
       "    <tr>\n",
       "      <th>12</th>\n",
       "      <td>Dara of Jasenovac</td>\n",
       "      <td>0.012018</td>\n",
       "    </tr>\n",
       "    <tr>\n",
       "      <th>13</th>\n",
       "      <td>A Carolina Christmas</td>\n",
       "      <td>0.011347</td>\n",
       "    </tr>\n",
       "    <tr>\n",
       "      <th>14</th>\n",
       "      <td>The King of Staten Island</td>\n",
       "      <td>0.010978</td>\n",
       "    </tr>\n",
       "    <tr>\n",
       "      <th>15</th>\n",
       "      <td>A House Divided... A Mega Maga Movie</td>\n",
       "      <td>0.010836</td>\n",
       "    </tr>\n",
       "    <tr>\n",
       "      <th>16</th>\n",
       "      <td>Chemical Hearts</td>\n",
       "      <td>0.010587</td>\n",
       "    </tr>\n",
       "    <tr>\n",
       "      <th>17</th>\n",
       "      <td>Greyhound</td>\n",
       "      <td>0.010343</td>\n",
       "    </tr>\n",
       "    <tr>\n",
       "      <th>18</th>\n",
       "      <td>Mank</td>\n",
       "      <td>0.010273</td>\n",
       "    </tr>\n",
       "    <tr>\n",
       "      <th>19</th>\n",
       "      <td>Emma.</td>\n",
       "      <td>0.010246</td>\n",
       "    </tr>\n",
       "  </tbody>\n",
       "</table>\n",
       "</div>"
      ],
      "text/plain": [
       "                          original_title     Total\n",
       "0                               Hamilton  0.122794\n",
       "1             The Trial of the Chicago 7  0.098573\n",
       "2                                 Clouds  0.059960\n",
       "3                 The Devil All the Time  0.058664\n",
       "4                      The Invisible Man  0.057937\n",
       "5                            Canaan Land  0.033179\n",
       "6          I Flip You Off for Four Hours  0.025644\n",
       "7                                 Minari  0.022854\n",
       "8          Never Rarely Sometimes Always  0.016725\n",
       "9                              Nomadland  0.015459\n",
       "10                      Interreflections  0.013393\n",
       "11                           Da 5 Bloods  0.012103\n",
       "12                     Dara of Jasenovac  0.012018\n",
       "13                  A Carolina Christmas  0.011347\n",
       "14             The King of Staten Island  0.010978\n",
       "15  A House Divided... A Mega Maga Movie  0.010836\n",
       "16                       Chemical Hearts  0.010587\n",
       "17                             Greyhound  0.010343\n",
       "18                                  Mank  0.010273\n",
       "19                                 Emma.  0.010246"
      ]
     },
     "execution_count": 145,
     "metadata": {},
     "output_type": "execute_result"
    }
   ],
   "source": [
    "sorted_noms = df_2020_noms.sort_values(by='Total',ascending=False)\n",
    "sorted_noms.reset_index().drop('index',axis=1)[['original_title','Total']].head(20)"
   ]
  },
  {
   "cell_type": "markdown",
   "metadata": {},
   "source": [
    "This is the list of nominations that we end up with using our classifiers. It is of course not perfect given our dataset. For instance, we can disqualify some of these entries purely by going through what the movies actually are on IMDB. Movies like \"Canaan Land\" and \"I Flip You Off for Four Hours\" seem like they are unlikely to be nominated, but they fit the requirements on IMDB.\\\n",
    "Also, we have to note that the Decision Tree algorithm affects this weighted sum heavily due to the nature of the probabilities."
   ]
  },
  {
   "cell_type": "markdown",
   "metadata": {},
   "source": [
    "### Winner\n",
    "\n",
    "Now we move on to the winners. We have to populate the nominated feature column since we decided to use this for our models.\\\n",
    "We can decide to use one of the predicted results from the nominated models. For this case, I chose Random Forest, but we can decide on Decision Tree or Logistic Regression. Note that the choice of nominations will affect the winner prediction heavily."
   ]
  },
  {
   "cell_type": "code",
   "execution_count": 102,
   "metadata": {},
   "outputs": [],
   "source": [
    "df_2020_W = df_2020.copy()\n",
    "nom_predicted_2020 = model_rfN.predict(df_2020) #Use Decision Tree as values for nominated column for winner classifiers\n",
    "df_2020_W.insert(3,'nominated',pd.Series(DT_2020_array,index=df_2020_W.index)) #Put nominated column in the correct column index"
   ]
  },
  {
   "cell_type": "markdown",
   "metadata": {},
   "source": [
    "#### Logisitic Regression"
   ]
  },
  {
   "cell_type": "code",
   "execution_count": 103,
   "metadata": {},
   "outputs": [
    {
     "data": {
      "text/html": [
       "<div>\n",
       "<style scoped>\n",
       "    .dataframe tbody tr th:only-of-type {\n",
       "        vertical-align: middle;\n",
       "    }\n",
       "\n",
       "    .dataframe tbody tr th {\n",
       "        vertical-align: top;\n",
       "    }\n",
       "\n",
       "    .dataframe thead th {\n",
       "        text-align: right;\n",
       "    }\n",
       "</style>\n",
       "<table border=\"1\" class=\"dataframe\">\n",
       "  <thead>\n",
       "    <tr style=\"text-align: right;\">\n",
       "      <th></th>\n",
       "      <th>original_title</th>\n",
       "      <th>Prob of Nominated</th>\n",
       "    </tr>\n",
       "  </thead>\n",
       "  <tbody>\n",
       "    <tr>\n",
       "      <th>0</th>\n",
       "      <td>Hamilton</td>\n",
       "      <td>0.286297</td>\n",
       "    </tr>\n",
       "    <tr>\n",
       "      <th>1</th>\n",
       "      <td>The Trial of the Chicago 7</td>\n",
       "      <td>0.205572</td>\n",
       "    </tr>\n",
       "    <tr>\n",
       "      <th>2</th>\n",
       "      <td>The Devil All the Time</td>\n",
       "      <td>0.140326</td>\n",
       "    </tr>\n",
       "    <tr>\n",
       "      <th>3</th>\n",
       "      <td>The Invisible Man</td>\n",
       "      <td>0.082852</td>\n",
       "    </tr>\n",
       "    <tr>\n",
       "      <th>4</th>\n",
       "      <td>Clouds</td>\n",
       "      <td>0.073250</td>\n",
       "    </tr>\n",
       "    <tr>\n",
       "      <th>5</th>\n",
       "      <td>I Flip You Off for Four Hours</td>\n",
       "      <td>0.003447</td>\n",
       "    </tr>\n",
       "    <tr>\n",
       "      <th>6</th>\n",
       "      <td>Little Mix: LM5 - The Tour Film</td>\n",
       "      <td>0.002086</td>\n",
       "    </tr>\n",
       "    <tr>\n",
       "      <th>7</th>\n",
       "      <td>A Carolina Christmas</td>\n",
       "      <td>0.001718</td>\n",
       "    </tr>\n",
       "    <tr>\n",
       "      <th>8</th>\n",
       "      <td>Dara of Jasenovac</td>\n",
       "      <td>0.001638</td>\n",
       "    </tr>\n",
       "    <tr>\n",
       "      <th>9</th>\n",
       "      <td>Flukten over grensen</td>\n",
       "      <td>0.001570</td>\n",
       "    </tr>\n",
       "  </tbody>\n",
       "</table>\n",
       "</div>"
      ],
      "text/plain": [
       "                    original_title  Prob of Nominated\n",
       "0                         Hamilton           0.286297\n",
       "1       The Trial of the Chicago 7           0.205572\n",
       "2           The Devil All the Time           0.140326\n",
       "3                The Invisible Man           0.082852\n",
       "4                           Clouds           0.073250\n",
       "5    I Flip You Off for Four Hours           0.003447\n",
       "6  Little Mix: LM5 - The Tour Film           0.002086\n",
       "7             A Carolina Christmas           0.001718\n",
       "8                Dara of Jasenovac           0.001638\n",
       "9             Flukten over grensen           0.001570"
      ]
     },
     "execution_count": 103,
     "metadata": {},
     "output_type": "execute_result"
    }
   ],
   "source": [
    "LR_2020_W = bestW.predict_proba(df_2020_W)\n",
    "df_2020_win_LR = df[df['year'] == 2020][['original_title']]\n",
    "df_2020_win_LR['Prob of Nominated'] = pd.Series(LR_2020_W[:,1],index=df_2020_win_LR.index)\n",
    "sorted_win_LR = df_2020_win_LR.sort_values(by='Prob of Nominated',ascending=False)\n",
    "sorted_win_LR.reset_index().drop('index',axis=1).head(10)"
   ]
  },
  {
   "cell_type": "markdown",
   "metadata": {},
   "source": [
    "#### Decision Tree"
   ]
  },
  {
   "cell_type": "code",
   "execution_count": 104,
   "metadata": {},
   "outputs": [
    {
     "data": {
      "text/html": [
       "<div>\n",
       "<style scoped>\n",
       "    .dataframe tbody tr th:only-of-type {\n",
       "        vertical-align: middle;\n",
       "    }\n",
       "\n",
       "    .dataframe tbody tr th {\n",
       "        vertical-align: top;\n",
       "    }\n",
       "\n",
       "    .dataframe thead th {\n",
       "        text-align: right;\n",
       "    }\n",
       "</style>\n",
       "<table border=\"1\" class=\"dataframe\">\n",
       "  <thead>\n",
       "    <tr style=\"text-align: right;\">\n",
       "      <th></th>\n",
       "      <th>original_title</th>\n",
       "      <th>Prob of Nominated</th>\n",
       "    </tr>\n",
       "  </thead>\n",
       "  <tbody>\n",
       "    <tr>\n",
       "      <th>0</th>\n",
       "      <td>The Trial of the Chicago 7</td>\n",
       "      <td>1.0</td>\n",
       "    </tr>\n",
       "    <tr>\n",
       "      <th>1</th>\n",
       "      <td>The Invisible Man</td>\n",
       "      <td>1.0</td>\n",
       "    </tr>\n",
       "    <tr>\n",
       "      <th>2</th>\n",
       "      <td>Hamilton</td>\n",
       "      <td>1.0</td>\n",
       "    </tr>\n",
       "    <tr>\n",
       "      <th>3</th>\n",
       "      <td>The Party Planner</td>\n",
       "      <td>0.0</td>\n",
       "    </tr>\n",
       "    <tr>\n",
       "      <th>4</th>\n",
       "      <td>A Little Red Flower</td>\n",
       "      <td>0.0</td>\n",
       "    </tr>\n",
       "    <tr>\n",
       "      <th>5</th>\n",
       "      <td>Kill Mode</td>\n",
       "      <td>0.0</td>\n",
       "    </tr>\n",
       "    <tr>\n",
       "      <th>6</th>\n",
       "      <td>Maska</td>\n",
       "      <td>0.0</td>\n",
       "    </tr>\n",
       "    <tr>\n",
       "      <th>7</th>\n",
       "      <td>The One You Feed</td>\n",
       "      <td>0.0</td>\n",
       "    </tr>\n",
       "    <tr>\n",
       "      <th>8</th>\n",
       "      <td>Terrible Jungle</td>\n",
       "      <td>0.0</td>\n",
       "    </tr>\n",
       "    <tr>\n",
       "      <th>9</th>\n",
       "      <td>Love on the Rise</td>\n",
       "      <td>0.0</td>\n",
       "    </tr>\n",
       "  </tbody>\n",
       "</table>\n",
       "</div>"
      ],
      "text/plain": [
       "               original_title  Prob of Nominated\n",
       "0  The Trial of the Chicago 7                1.0\n",
       "1           The Invisible Man                1.0\n",
       "2                    Hamilton                1.0\n",
       "3           The Party Planner                0.0\n",
       "4         A Little Red Flower                0.0\n",
       "5                   Kill Mode                0.0\n",
       "6                       Maska                0.0\n",
       "7            The One You Feed                0.0\n",
       "8             Terrible Jungle                0.0\n",
       "9            Love on the Rise                0.0"
      ]
     },
     "execution_count": 104,
     "metadata": {},
     "output_type": "execute_result"
    }
   ],
   "source": [
    "DT_2020_W = model_dtW.predict_proba(df_2020_W)\n",
    "df_2020_win_DT = df[df['year'] == 2020][['original_title']]\n",
    "df_2020_win_DT['Prob of Nominated'] = pd.Series(DT_2020_W[:,1],index=df_2020_win_DT.index)\n",
    "sorted_win_DT = df_2020_win_DT.sort_values(by='Prob of Nominated',ascending=False)\n",
    "sorted_win_DT.reset_index().drop('index',axis=1).head(10)"
   ]
  },
  {
   "cell_type": "markdown",
   "metadata": {},
   "source": [
    "#### Random Forest"
   ]
  },
  {
   "cell_type": "code",
   "execution_count": 105,
   "metadata": {},
   "outputs": [
    {
     "data": {
      "text/html": [
       "<div>\n",
       "<style scoped>\n",
       "    .dataframe tbody tr th:only-of-type {\n",
       "        vertical-align: middle;\n",
       "    }\n",
       "\n",
       "    .dataframe tbody tr th {\n",
       "        vertical-align: top;\n",
       "    }\n",
       "\n",
       "    .dataframe thead th {\n",
       "        text-align: right;\n",
       "    }\n",
       "</style>\n",
       "<table border=\"1\" class=\"dataframe\">\n",
       "  <thead>\n",
       "    <tr style=\"text-align: right;\">\n",
       "      <th></th>\n",
       "      <th>original_title</th>\n",
       "      <th>Prob of Nominated</th>\n",
       "    </tr>\n",
       "  </thead>\n",
       "  <tbody>\n",
       "    <tr>\n",
       "      <th>0</th>\n",
       "      <td>Hamilton</td>\n",
       "      <td>0.43</td>\n",
       "    </tr>\n",
       "    <tr>\n",
       "      <th>1</th>\n",
       "      <td>The Devil All the Time</td>\n",
       "      <td>0.12</td>\n",
       "    </tr>\n",
       "    <tr>\n",
       "      <th>2</th>\n",
       "      <td>Clouds</td>\n",
       "      <td>0.11</td>\n",
       "    </tr>\n",
       "    <tr>\n",
       "      <th>3</th>\n",
       "      <td>The Trial of the Chicago 7</td>\n",
       "      <td>0.07</td>\n",
       "    </tr>\n",
       "    <tr>\n",
       "      <th>4</th>\n",
       "      <td>The Invisible Man</td>\n",
       "      <td>0.05</td>\n",
       "    </tr>\n",
       "    <tr>\n",
       "      <th>5</th>\n",
       "      <td>Minari</td>\n",
       "      <td>0.02</td>\n",
       "    </tr>\n",
       "    <tr>\n",
       "      <th>6</th>\n",
       "      <td>Dance of the 41</td>\n",
       "      <td>0.01</td>\n",
       "    </tr>\n",
       "    <tr>\n",
       "      <th>7</th>\n",
       "      <td>Da 5 Bloods</td>\n",
       "      <td>0.01</td>\n",
       "    </tr>\n",
       "    <tr>\n",
       "      <th>8</th>\n",
       "      <td>Emma.</td>\n",
       "      <td>0.01</td>\n",
       "    </tr>\n",
       "    <tr>\n",
       "      <th>9</th>\n",
       "      <td>Tanhaji: The Unsung Warrior</td>\n",
       "      <td>0.01</td>\n",
       "    </tr>\n",
       "  </tbody>\n",
       "</table>\n",
       "</div>"
      ],
      "text/plain": [
       "                original_title  Prob of Nominated\n",
       "0                     Hamilton               0.43\n",
       "1       The Devil All the Time               0.12\n",
       "2                       Clouds               0.11\n",
       "3   The Trial of the Chicago 7               0.07\n",
       "4            The Invisible Man               0.05\n",
       "5                       Minari               0.02\n",
       "6              Dance of the 41               0.01\n",
       "7                  Da 5 Bloods               0.01\n",
       "8                        Emma.               0.01\n",
       "9  Tanhaji: The Unsung Warrior               0.01"
      ]
     },
     "execution_count": 105,
     "metadata": {},
     "output_type": "execute_result"
    }
   ],
   "source": [
    "RF_2020_W = model_rfW.predict_proba(df_2020_W)\n",
    "df_2020_win_RF = df[df['year'] == 2020][['original_title']]\n",
    "df_2020_win_RF['Prob of Nominated'] = pd.Series(RF_2020_W[:,1],index=df_2020_win_RF.index)\n",
    "sorted_win_RF = df_2020_win_RF.sort_values(by='Prob of Nominated',ascending=False)\n",
    "sorted_win_RF.reset_index().drop('index',axis=1).head(10)"
   ]
  },
  {
   "cell_type": "markdown",
   "metadata": {},
   "source": [
    "#### K-Nearest Neighbors"
   ]
  },
  {
   "cell_type": "code",
   "execution_count": 106,
   "metadata": {},
   "outputs": [
    {
     "data": {
      "text/html": [
       "<div>\n",
       "<style scoped>\n",
       "    .dataframe tbody tr th:only-of-type {\n",
       "        vertical-align: middle;\n",
       "    }\n",
       "\n",
       "    .dataframe tbody tr th {\n",
       "        vertical-align: top;\n",
       "    }\n",
       "\n",
       "    .dataframe thead th {\n",
       "        text-align: right;\n",
       "    }\n",
       "</style>\n",
       "<table border=\"1\" class=\"dataframe\">\n",
       "  <thead>\n",
       "    <tr style=\"text-align: right;\">\n",
       "      <th></th>\n",
       "      <th>original_title</th>\n",
       "      <th>Prob of Nominated</th>\n",
       "    </tr>\n",
       "  </thead>\n",
       "  <tbody>\n",
       "    <tr>\n",
       "      <th>0</th>\n",
       "      <td>The Invisible Man</td>\n",
       "      <td>0.375</td>\n",
       "    </tr>\n",
       "    <tr>\n",
       "      <th>1</th>\n",
       "      <td>The Trial of the Chicago 7</td>\n",
       "      <td>0.125</td>\n",
       "    </tr>\n",
       "    <tr>\n",
       "      <th>2</th>\n",
       "      <td>Clouds</td>\n",
       "      <td>0.125</td>\n",
       "    </tr>\n",
       "    <tr>\n",
       "      <th>3</th>\n",
       "      <td>Hamilton</td>\n",
       "      <td>0.125</td>\n",
       "    </tr>\n",
       "    <tr>\n",
       "      <th>4</th>\n",
       "      <td>The Party Planner</td>\n",
       "      <td>0.000</td>\n",
       "    </tr>\n",
       "    <tr>\n",
       "      <th>5</th>\n",
       "      <td>A Little Red Flower</td>\n",
       "      <td>0.000</td>\n",
       "    </tr>\n",
       "    <tr>\n",
       "      <th>6</th>\n",
       "      <td>Kill Mode</td>\n",
       "      <td>0.000</td>\n",
       "    </tr>\n",
       "    <tr>\n",
       "      <th>7</th>\n",
       "      <td>Maska</td>\n",
       "      <td>0.000</td>\n",
       "    </tr>\n",
       "    <tr>\n",
       "      <th>8</th>\n",
       "      <td>The One You Feed</td>\n",
       "      <td>0.000</td>\n",
       "    </tr>\n",
       "    <tr>\n",
       "      <th>9</th>\n",
       "      <td>Terrible Jungle</td>\n",
       "      <td>0.000</td>\n",
       "    </tr>\n",
       "  </tbody>\n",
       "</table>\n",
       "</div>"
      ],
      "text/plain": [
       "               original_title  Prob of Nominated\n",
       "0           The Invisible Man              0.375\n",
       "1  The Trial of the Chicago 7              0.125\n",
       "2                      Clouds              0.125\n",
       "3                    Hamilton              0.125\n",
       "4           The Party Planner              0.000\n",
       "5         A Little Red Flower              0.000\n",
       "6                   Kill Mode              0.000\n",
       "7                       Maska              0.000\n",
       "8            The One You Feed              0.000\n",
       "9             Terrible Jungle              0.000"
      ]
     },
     "execution_count": 106,
     "metadata": {},
     "output_type": "execute_result"
    }
   ],
   "source": [
    "knn_2020_W = model_knnW.predict_proba(df_2020_W)\n",
    "df_2020_win_knn = df[df['year'] == 2020][['original_title']]\n",
    "df_2020_win_knn['Prob of Nominated'] = pd.Series(knn_2020_W[:,1],index=df_2020_win_knn.index)\n",
    "sorted_win_knn = df_2020_win_knn.sort_values(by='Prob of Nominated',ascending=False)\n",
    "sorted_win_knn.reset_index().drop('index',axis=1).head(10)"
   ]
  },
  {
   "cell_type": "markdown",
   "metadata": {},
   "source": [
    "#### Naive Bayes"
   ]
  },
  {
   "cell_type": "code",
   "execution_count": 107,
   "metadata": {},
   "outputs": [
    {
     "data": {
      "text/html": [
       "<div>\n",
       "<style scoped>\n",
       "    .dataframe tbody tr th:only-of-type {\n",
       "        vertical-align: middle;\n",
       "    }\n",
       "\n",
       "    .dataframe tbody tr th {\n",
       "        vertical-align: top;\n",
       "    }\n",
       "\n",
       "    .dataframe thead th {\n",
       "        text-align: right;\n",
       "    }\n",
       "</style>\n",
       "<table border=\"1\" class=\"dataframe\">\n",
       "  <thead>\n",
       "    <tr style=\"text-align: right;\">\n",
       "      <th></th>\n",
       "      <th>original_title</th>\n",
       "      <th>Prob of Nominated</th>\n",
       "    </tr>\n",
       "  </thead>\n",
       "  <tbody>\n",
       "    <tr>\n",
       "      <th>0</th>\n",
       "      <td>Clouds</td>\n",
       "      <td>1.0</td>\n",
       "    </tr>\n",
       "    <tr>\n",
       "      <th>1</th>\n",
       "      <td>The Devil All the Time</td>\n",
       "      <td>1.0</td>\n",
       "    </tr>\n",
       "    <tr>\n",
       "      <th>2</th>\n",
       "      <td>Hamilton</td>\n",
       "      <td>1.0</td>\n",
       "    </tr>\n",
       "    <tr>\n",
       "      <th>3</th>\n",
       "      <td>The Trial of the Chicago 7</td>\n",
       "      <td>1.0</td>\n",
       "    </tr>\n",
       "    <tr>\n",
       "      <th>4</th>\n",
       "      <td>The Party Planner</td>\n",
       "      <td>0.0</td>\n",
       "    </tr>\n",
       "    <tr>\n",
       "      <th>5</th>\n",
       "      <td>The Curse of Hobbes House</td>\n",
       "      <td>0.0</td>\n",
       "    </tr>\n",
       "    <tr>\n",
       "      <th>6</th>\n",
       "      <td>A Little Red Flower</td>\n",
       "      <td>0.0</td>\n",
       "    </tr>\n",
       "    <tr>\n",
       "      <th>7</th>\n",
       "      <td>Kill Mode</td>\n",
       "      <td>0.0</td>\n",
       "    </tr>\n",
       "    <tr>\n",
       "      <th>8</th>\n",
       "      <td>Maska</td>\n",
       "      <td>0.0</td>\n",
       "    </tr>\n",
       "    <tr>\n",
       "      <th>9</th>\n",
       "      <td>The One You Feed</td>\n",
       "      <td>0.0</td>\n",
       "    </tr>\n",
       "  </tbody>\n",
       "</table>\n",
       "</div>"
      ],
      "text/plain": [
       "               original_title  Prob of Nominated\n",
       "0                      Clouds                1.0\n",
       "1      The Devil All the Time                1.0\n",
       "2                    Hamilton                1.0\n",
       "3  The Trial of the Chicago 7                1.0\n",
       "4           The Party Planner                0.0\n",
       "5   The Curse of Hobbes House                0.0\n",
       "6         A Little Red Flower                0.0\n",
       "7                   Kill Mode                0.0\n",
       "8                       Maska                0.0\n",
       "9            The One You Feed                0.0"
      ]
     },
     "execution_count": 107,
     "metadata": {},
     "output_type": "execute_result"
    }
   ],
   "source": [
    "NB_2020_W = model_nbW.predict_proba(df_2020_W)\n",
    "df_2020_win_NB = df[df['year'] == 2020][['original_title']]\n",
    "df_2020_win_NB['Prob of Nominated'] = pd.Series(NB_2020_W[:,1],index=df_2020_win_NB.index)\n",
    "sorted_win_NB = df_2020_win_NB.sort_values(by='Prob of Nominated',ascending=False)\n",
    "sorted_win_NB.reset_index().drop('index',axis=1).head(10)"
   ]
  },
  {
   "cell_type": "markdown",
   "metadata": {},
   "source": [
    "Again, we use the strategy of weighted average of the probabilities. This time, we can use the Naive Bayes as it is more accurate."
   ]
  },
  {
   "cell_type": "code",
   "execution_count": 136,
   "metadata": {},
   "outputs": [],
   "source": [
    "df_2020_win = df[df['year'] == 2020][['original_title']]"
   ]
  },
  {
   "cell_type": "code",
   "execution_count": 142,
   "metadata": {},
   "outputs": [],
   "source": [
    "df_2020_win['LR Prob'] = df_2020_win_LR['Prob of Nominated'] * jaccard_score(y_testW, yLR_W)\n",
    "df_2020_win['DT Prob'] = df_2020_win_DT['Prob of Nominated'] * jaccard_score(y_testW, ydt_W)\n",
    "df_2020_win['RF Prob'] = df_2020_win_RF['Prob of Nominated'] * jaccard_score(y_testW, yrf_W)\n",
    "df_2020_win['KNN Prob'] = df_2020_win_knn['Prob of Nominated'] * jaccard_score(y_testW, yknn_W)\n",
    "df_2020_win['NB Prob'] = df_2020_win_NB['Prob of Nominated'] * jaccard_score(y_testW, ynb_W)\n",
    "df_2020_win['Total'] = (df_2020_win['LR Prob'] + df_2020_win['DT Prob'] + df_2020_win['RF Prob'] + df_2020_win['KNN Prob'] + df_2020_win['NB Prob']) / 5"
   ]
  },
  {
   "cell_type": "code",
   "execution_count": 143,
   "metadata": {},
   "outputs": [
    {
     "data": {
      "text/html": [
       "<div>\n",
       "<style scoped>\n",
       "    .dataframe tbody tr th:only-of-type {\n",
       "        vertical-align: middle;\n",
       "    }\n",
       "\n",
       "    .dataframe tbody tr th {\n",
       "        vertical-align: top;\n",
       "    }\n",
       "\n",
       "    .dataframe thead th {\n",
       "        text-align: right;\n",
       "    }\n",
       "</style>\n",
       "<table border=\"1\" class=\"dataframe\">\n",
       "  <thead>\n",
       "    <tr style=\"text-align: right;\">\n",
       "      <th></th>\n",
       "      <th>original_title</th>\n",
       "      <th>Total</th>\n",
       "    </tr>\n",
       "  </thead>\n",
       "  <tbody>\n",
       "    <tr>\n",
       "      <th>0</th>\n",
       "      <td>Hamilton</td>\n",
       "      <td>0.058722</td>\n",
       "    </tr>\n",
       "    <tr>\n",
       "      <th>1</th>\n",
       "      <td>The Trial of the Chicago 7</td>\n",
       "      <td>0.053145</td>\n",
       "    </tr>\n",
       "    <tr>\n",
       "      <th>2</th>\n",
       "      <td>The Devil All the Time</td>\n",
       "      <td>0.029371</td>\n",
       "    </tr>\n",
       "    <tr>\n",
       "      <th>3</th>\n",
       "      <td>Clouds</td>\n",
       "      <td>0.028352</td>\n",
       "    </tr>\n",
       "    <tr>\n",
       "      <th>4</th>\n",
       "      <td>The Invisible Man</td>\n",
       "      <td>0.025259</td>\n",
       "    </tr>\n",
       "    <tr>\n",
       "      <th>5</th>\n",
       "      <td>Minari</td>\n",
       "      <td>0.000256</td>\n",
       "    </tr>\n",
       "    <tr>\n",
       "      <th>6</th>\n",
       "      <td>I Flip You Off for Four Hours</td>\n",
       "      <td>0.000171</td>\n",
       "    </tr>\n",
       "    <tr>\n",
       "      <th>7</th>\n",
       "      <td>Soorarai Pottru</td>\n",
       "      <td>0.000138</td>\n",
       "    </tr>\n",
       "    <tr>\n",
       "      <th>8</th>\n",
       "      <td>Dance of the 41</td>\n",
       "      <td>0.000134</td>\n",
       "    </tr>\n",
       "    <tr>\n",
       "      <th>9</th>\n",
       "      <td>Da 5 Bloods</td>\n",
       "      <td>0.000134</td>\n",
       "    </tr>\n",
       "    <tr>\n",
       "      <th>10</th>\n",
       "      <td>Tenet</td>\n",
       "      <td>0.000130</td>\n",
       "    </tr>\n",
       "    <tr>\n",
       "      <th>11</th>\n",
       "      <td>I Care a Lot</td>\n",
       "      <td>0.000130</td>\n",
       "    </tr>\n",
       "    <tr>\n",
       "      <th>12</th>\n",
       "      <td>The Prom</td>\n",
       "      <td>0.000130</td>\n",
       "    </tr>\n",
       "    <tr>\n",
       "      <th>13</th>\n",
       "      <td>Emma.</td>\n",
       "      <td>0.000129</td>\n",
       "    </tr>\n",
       "    <tr>\n",
       "      <th>14</th>\n",
       "      <td>Rebecca</td>\n",
       "      <td>0.000128</td>\n",
       "    </tr>\n",
       "    <tr>\n",
       "      <th>15</th>\n",
       "      <td>Dil Bechara</td>\n",
       "      <td>0.000128</td>\n",
       "    </tr>\n",
       "    <tr>\n",
       "      <th>16</th>\n",
       "      <td>Tanhaji: The Unsung Warrior</td>\n",
       "      <td>0.000127</td>\n",
       "    </tr>\n",
       "    <tr>\n",
       "      <th>17</th>\n",
       "      <td>Greyhound</td>\n",
       "      <td>0.000127</td>\n",
       "    </tr>\n",
       "    <tr>\n",
       "      <th>18</th>\n",
       "      <td>Interreflections</td>\n",
       "      <td>0.000127</td>\n",
       "    </tr>\n",
       "    <tr>\n",
       "      <th>19</th>\n",
       "      <td>Shikara</td>\n",
       "      <td>0.000127</td>\n",
       "    </tr>\n",
       "  </tbody>\n",
       "</table>\n",
       "</div>"
      ],
      "text/plain": [
       "                   original_title     Total\n",
       "0                        Hamilton  0.058722\n",
       "1      The Trial of the Chicago 7  0.053145\n",
       "2          The Devil All the Time  0.029371\n",
       "3                          Clouds  0.028352\n",
       "4               The Invisible Man  0.025259\n",
       "5                          Minari  0.000256\n",
       "6   I Flip You Off for Four Hours  0.000171\n",
       "7                 Soorarai Pottru  0.000138\n",
       "8                 Dance of the 41  0.000134\n",
       "9                     Da 5 Bloods  0.000134\n",
       "10                          Tenet  0.000130\n",
       "11                   I Care a Lot  0.000130\n",
       "12                       The Prom  0.000130\n",
       "13                          Emma.  0.000129\n",
       "14                        Rebecca  0.000128\n",
       "15                    Dil Bechara  0.000128\n",
       "16    Tanhaji: The Unsung Warrior  0.000127\n",
       "17                      Greyhound  0.000127\n",
       "18               Interreflections  0.000127\n",
       "19                        Shikara  0.000127"
      ]
     },
     "execution_count": 143,
     "metadata": {},
     "output_type": "execute_result"
    }
   ],
   "source": [
    "sorted_win = df_2020_win.sort_values(by='Total',ascending=False)\n",
    "sorted_win.reset_index().drop('index',axis=1)[['original_title','Total']].head(20)"
   ]
  },
  {
   "cell_type": "markdown",
   "metadata": {},
   "source": [
    "## Final Results and Next Steps\n",
    "\n",
    "Let's put both of the results of nominations and winners together and visualize the probabilities."
   ]
  },
  {
   "cell_type": "code",
   "execution_count": 174,
   "metadata": {},
   "outputs": [
    {
     "data": {
      "text/html": [
       "<div>\n",
       "<style scoped>\n",
       "    .dataframe tbody tr th:only-of-type {\n",
       "        vertical-align: middle;\n",
       "    }\n",
       "\n",
       "    .dataframe tbody tr th {\n",
       "        vertical-align: top;\n",
       "    }\n",
       "\n",
       "    .dataframe thead th {\n",
       "        text-align: right;\n",
       "    }\n",
       "</style>\n",
       "<table border=\"1\" class=\"dataframe\">\n",
       "  <thead>\n",
       "    <tr style=\"text-align: right;\">\n",
       "      <th></th>\n",
       "      <th>Prob Nominated</th>\n",
       "      <th>Prob Winner</th>\n",
       "    </tr>\n",
       "  </thead>\n",
       "  <tbody>\n",
       "    <tr>\n",
       "      <th>Hamilton</th>\n",
       "      <td>1.000</td>\n",
       "      <td>1.000</td>\n",
       "    </tr>\n",
       "    <tr>\n",
       "      <th>The Trial of the Chicago 7</th>\n",
       "      <td>0.803</td>\n",
       "      <td>0.905</td>\n",
       "    </tr>\n",
       "    <tr>\n",
       "      <th>The Devil All the Time</th>\n",
       "      <td>0.478</td>\n",
       "      <td>0.500</td>\n",
       "    </tr>\n",
       "    <tr>\n",
       "      <th>Clouds</th>\n",
       "      <td>0.488</td>\n",
       "      <td>0.483</td>\n",
       "    </tr>\n",
       "    <tr>\n",
       "      <th>The Invisible Man</th>\n",
       "      <td>0.472</td>\n",
       "      <td>0.430</td>\n",
       "    </tr>\n",
       "    <tr>\n",
       "      <th>Minari</th>\n",
       "      <td>0.186</td>\n",
       "      <td>0.004</td>\n",
       "    </tr>\n",
       "    <tr>\n",
       "      <th>I Flip You Off for Four Hours</th>\n",
       "      <td>0.209</td>\n",
       "      <td>0.003</td>\n",
       "    </tr>\n",
       "    <tr>\n",
       "      <th>Soorarai Pottru</th>\n",
       "      <td>0.049</td>\n",
       "      <td>0.002</td>\n",
       "    </tr>\n",
       "    <tr>\n",
       "      <th>Dance of the 41</th>\n",
       "      <td>0.023</td>\n",
       "      <td>0.002</td>\n",
       "    </tr>\n",
       "    <tr>\n",
       "      <th>Da 5 Bloods</th>\n",
       "      <td>0.099</td>\n",
       "      <td>0.002</td>\n",
       "    </tr>\n",
       "    <tr>\n",
       "      <th>Tenet</th>\n",
       "      <td>0.051</td>\n",
       "      <td>0.002</td>\n",
       "    </tr>\n",
       "    <tr>\n",
       "      <th>I Care a Lot</th>\n",
       "      <td>0.021</td>\n",
       "      <td>0.002</td>\n",
       "    </tr>\n",
       "    <tr>\n",
       "      <th>The Prom</th>\n",
       "      <td>0.008</td>\n",
       "      <td>0.002</td>\n",
       "    </tr>\n",
       "    <tr>\n",
       "      <th>Emma.</th>\n",
       "      <td>0.083</td>\n",
       "      <td>0.002</td>\n",
       "    </tr>\n",
       "    <tr>\n",
       "      <th>Rebecca</th>\n",
       "      <td>0.060</td>\n",
       "      <td>0.002</td>\n",
       "    </tr>\n",
       "    <tr>\n",
       "      <th>Dil Bechara</th>\n",
       "      <td>0.034</td>\n",
       "      <td>0.002</td>\n",
       "    </tr>\n",
       "    <tr>\n",
       "      <th>Tanhaji: The Unsung Warrior</th>\n",
       "      <td>0.008</td>\n",
       "      <td>0.002</td>\n",
       "    </tr>\n",
       "    <tr>\n",
       "      <th>Greyhound</th>\n",
       "      <td>0.084</td>\n",
       "      <td>0.002</td>\n",
       "    </tr>\n",
       "    <tr>\n",
       "      <th>Interreflections</th>\n",
       "      <td>0.109</td>\n",
       "      <td>0.002</td>\n",
       "    </tr>\n",
       "    <tr>\n",
       "      <th>Shikara</th>\n",
       "      <td>0.000</td>\n",
       "      <td>0.002</td>\n",
       "    </tr>\n",
       "  </tbody>\n",
       "</table>\n",
       "</div>"
      ],
      "text/plain": [
       "                               Prob Nominated  Prob Winner\n",
       "Hamilton                                1.000        1.000\n",
       "The Trial of the Chicago 7              0.803        0.905\n",
       "The Devil All the Time                  0.478        0.500\n",
       "Clouds                                  0.488        0.483\n",
       "The Invisible Man                       0.472        0.430\n",
       "Minari                                  0.186        0.004\n",
       "I Flip You Off for Four Hours           0.209        0.003\n",
       "Soorarai Pottru                         0.049        0.002\n",
       "Dance of the 41                         0.023        0.002\n",
       "Da 5 Bloods                             0.099        0.002\n",
       "Tenet                                   0.051        0.002\n",
       "I Care a Lot                            0.021        0.002\n",
       "The Prom                                0.008        0.002\n",
       "Emma.                                   0.083        0.002\n",
       "Rebecca                                 0.060        0.002\n",
       "Dil Bechara                             0.034        0.002\n",
       "Tanhaji: The Unsung Warrior             0.008        0.002\n",
       "Greyhound                               0.084        0.002\n",
       "Interreflections                        0.109        0.002\n",
       "Shikara                                 0.000        0.002"
      ]
     },
     "execution_count": 174,
     "metadata": {},
     "output_type": "execute_result"
    }
   ],
   "source": [
    "df_final = df[df['year'] == 2020][['original_title']]\n",
    "df_final['Prob Nominated'] = df_2020_noms['Total']\n",
    "df_final['Prob Winner'] = df_2020_win['Total']\n",
    "\n",
    "#Scale the data to make probabilities make more sense\n",
    "df_final[['Prob Nominated','Prob Winner']] = MinMaxScaler().fit(df_final[['Prob Nominated','Prob Winner']]).transform(df_final[['Prob Nominated','Prob Winner']])\n",
    "df_final.set_index('original_title',inplace=True)\n",
    "df_final.index.name = None\n",
    "sorted_final = df_final.sort_values(by='Prob Winner', ascending=False)\n",
    "sorted_final.round(3).head(20)"
   ]
  },
  {
   "cell_type": "code",
   "execution_count": 183,
   "metadata": {},
   "outputs": [
    {
     "data": {
      "image/png": "[encoded data removed]",
      "text/plain": [
       "<Figure size 1800x576 with 2 Axes>"
      ]
     },
     "metadata": {
      "needs_background": "light"
     },
     "output_type": "display_data"
    }
   ],
   "source": [
    "plt.figure(figsize=(25,8))\n",
    "plt.subplot(1,2,1)\n",
    "df_final['Prob Nominated'].sort_values().tail(20).plot(kind='barh')\n",
    "plt.xlabel('Probability')\n",
    "plt.subplot(1,2,2)\n",
    "df_final['Prob Winner'].sort_values().tail(20).plot(kind='barh')\n",
    "plt.xlabel('Probability')\n",
    "plt.show()"
   ]
  },
  {
   "cell_type": "markdown",
   "metadata": {},
   "source": [
    "### Next Steps\n",
    "This project was done for the 2021 Oscars, but can be extended for Oscars in future years. This would simply require the dataset to be updated, which can be done via web-scraping.\n",
    "\n",
    "There is a lot more that can be done to make this model more accurate. For instance, we can include more critics scores like Rotten Tomatoes or Metacritic. We can also use other award shows to see who were the nominations and winners of those to predict the winner.\\\n",
    "Furthermore, because the Oscars itself is a very campaign-based award, we can do some NLP analysis on movie reviews each year to see which movies are the most likely to get nominated or get buzz.\\\n",
    "These are all implementations that could be added to this project and could be explored further.\\\n",
    "There can also be some predictions done for the other categories of the Oscars."
   ]
  }
 ],
 "metadata": {
  "kernelspec": {
   "display_name": "Python 3",
   "language": "python",
   "name": "python3"
  },
  "language_info": {
   "codemirror_mode": {
    "name": "ipython",
    "version": 3
   },
   "file_extension": ".py",
   "mimetype": "text/x-python",
   "name": "python",
   "nbconvert_exporter": "python",
   "pygments_lexer": "ipython3",
   "version": "3.8.5"
  }
 },
 "nbformat": 4,
 "nbformat_minor": 4
}
